{
 "cells": [
  {
   "cell_type": "markdown",
   "metadata": {},
   "source": [
    "Getting started"
   ]
  },
  {
   "cell_type": "code",
   "execution_count": 1,
   "metadata": {},
   "outputs": [
    {
     "name": "stdout",
     "output_type": "stream",
     "text": [
      "Hello World\n"
     ]
    }
   ],
   "source": [
    "print(\"Hello World\")"
   ]
  },
  {
   "cell_type": "markdown",
   "metadata": {},
   "source": [
    "String Type"
   ]
  },
  {
   "cell_type": "code",
   "execution_count": 41,
   "metadata": {},
   "outputs": [
    {
     "name": "stdout",
     "output_type": "stream",
     "text": [
      "ammar\n"
     ]
    }
   ],
   "source": [
    "name : str = \"ammar\"\n",
    "print(name)"
   ]
  },
  {
   "cell_type": "markdown",
   "metadata": {},
   "source": [
    "Int Type"
   ]
  },
  {
   "cell_type": "code",
   "execution_count": 42,
   "metadata": {},
   "outputs": [
    {
     "name": "stdout",
     "output_type": "stream",
     "text": [
      "23\n"
     ]
    }
   ],
   "source": [
    "name : int = 23\n",
    "print(name)"
   ]
  },
  {
   "cell_type": "markdown",
   "metadata": {},
   "source": [
    "Float Type"
   ]
  },
  {
   "cell_type": "code",
   "execution_count": 43,
   "metadata": {},
   "outputs": [
    {
     "name": "stdout",
     "output_type": "stream",
     "text": [
      "23.4\n"
     ]
    }
   ],
   "source": [
    "name : float = 23.4\n",
    "print(name)"
   ]
  },
  {
   "cell_type": "markdown",
   "metadata": {},
   "source": [
    "Boolean Type"
   ]
  },
  {
   "cell_type": "code",
   "execution_count": 44,
   "metadata": {},
   "outputs": [
    {
     "name": "stdout",
     "output_type": "stream",
     "text": [
      "True\n"
     ]
    }
   ],
   "source": [
    "name : bool = True\n",
    "print(name)"
   ]
  },
  {
   "cell_type": "markdown",
   "metadata": {},
   "source": [
    "List Type"
   ]
  },
  {
   "cell_type": "code",
   "execution_count": 45,
   "metadata": {},
   "outputs": [
    {
     "name": "stdout",
     "output_type": "stream",
     "text": [
      "[23, 23]\n"
     ]
    }
   ],
   "source": [
    "name : list[int] = [23, 23]\n",
    "print(name)"
   ]
  },
  {
   "cell_type": "markdown",
   "metadata": {},
   "source": [
    "Tupple Type"
   ]
  },
  {
   "cell_type": "code",
   "execution_count": 46,
   "metadata": {},
   "outputs": [
    {
     "name": "stdout",
     "output_type": "stream",
     "text": [
      "(23.4, '23', 23)\n"
     ]
    }
   ],
   "source": [
    "name : tuple[float, str, int] = (23.4, \"23\", 23)\n",
    "print(name)"
   ]
  },
  {
   "cell_type": "markdown",
   "metadata": {},
   "source": [
    "Set Type"
   ]
  },
  {
   "cell_type": "code",
   "execution_count": 47,
   "metadata": {},
   "outputs": [
    {
     "name": "stdout",
     "output_type": "stream",
     "text": [
      "{1, 2, 3, 4, 5, 6, 8}\n"
     ]
    }
   ],
   "source": [
    "data : set = {2,2,5,2,6,3,4,2,1,8,1,8,2,1}\n",
    "print(data)"
   ]
  },
  {
   "cell_type": "markdown",
   "metadata": {},
   "source": [
    "F String"
   ]
  },
  {
   "cell_type": "code",
   "execution_count": 48,
   "metadata": {},
   "outputs": [
    {
     "name": "stdout",
     "output_type": "stream",
     "text": [
      "Nice to meet you Ammar\n"
     ]
    }
   ],
   "source": [
    "name : str = \"Ammar\"\n",
    "message: str = f\"Nice to meet you {name}\"\n",
    "print(message)"
   ]
  },
  {
   "cell_type": "markdown",
   "metadata": {},
   "source": [
    "F string .format"
   ]
  },
  {
   "cell_type": "code",
   "execution_count": 1,
   "metadata": {},
   "outputs": [
    {
     "name": "stdout",
     "output_type": "stream",
     "text": [
      "Nice to meet you ammar, son of Aamir\n"
     ]
    }
   ],
   "source": [
    "name : str = \"ammar\"\n",
    "l_name : str = \"Aamir\"\n",
    "message = \"Nice to meet you {0}, son of {1}\".format(name, l_name)\n",
    "print(message)"
   ]
  },
  {
   "cell_type": "markdown",
   "metadata": {},
   "source": [
    "F string .format with declared index"
   ]
  },
  {
   "cell_type": "code",
   "execution_count": 50,
   "metadata": {},
   "outputs": [
    {
     "name": "stdout",
     "output_type": "stream",
     "text": [
      "Nice to meet you ammar, son of Aamir\n"
     ]
    }
   ],
   "source": [
    "name : str = \"ammar\"\n",
    "l_name : str = \"Aamir\"\n",
    "message = \"Nice to meet you {a}, son of {b}\" .format(a= name, b= l_name)\n",
    "print(message)"
   ]
  },
  {
   "cell_type": "markdown",
   "metadata": {},
   "source": [
    "String Methods"
   ]
  },
  {
   "cell_type": "code",
   "execution_count": 51,
   "metadata": {},
   "outputs": [
    {
     "name": "stdout",
     "output_type": "stream",
     "text": [
      "   ammar aamir   \n",
      "   AMMAR AAMIR   \n",
      "   ammar aamir   \n",
      "   Ammar Aamir   \n",
      "ammAr aAmir   \n",
      "   ammAr aAmir\n",
      "ammAr aAmir\n"
     ]
    }
   ],
   "source": [
    "name: str = \"   ammAr aAmir   \"\n",
    "print(name.capitalize())\n",
    "print(name.upper())\n",
    "print(name.lower())\n",
    "print(name.title())\n",
    "print(name.lstrip())\n",
    "print(name.rstrip())\n",
    "print(name.strip())"
   ]
  },
  {
   "cell_type": "markdown",
   "metadata": {},
   "source": [
    "Take values from users using input function"
   ]
  },
  {
   "cell_type": "code",
   "execution_count": 2,
   "metadata": {},
   "outputs": [
    {
     "data": {
      "text/plain": [
       "'ammar'"
      ]
     },
     "metadata": {},
     "output_type": "display_data"
    }
   ],
   "source": [
    "uinput : str = input(\"Enter your name\")\n",
    "display(uinput)"
   ]
  },
  {
   "cell_type": "markdown",
   "metadata": {},
   "source": [
    "Logical Operators"
   ]
  },
  {
   "cell_type": "code",
   "execution_count": null,
   "metadata": {},
   "outputs": [
    {
     "name": "stdout",
     "output_type": "stream",
     "text": [
      "False\n",
      "True\n",
      "False\n"
     ]
    }
   ],
   "source": [
    "a: int = 3\n",
    "b: int = 5\n",
    "\n",
    "print(a > 3 and a > b)\n",
    "print(a > 2 or a > b)\n",
    "print(not a > 2 or a > b)"
   ]
  },
  {
   "cell_type": "markdown",
   "metadata": {},
   "source": [
    "Identity Operators"
   ]
  },
  {
   "cell_type": "code",
   "execution_count": 54,
   "metadata": {},
   "outputs": [
    {
     "name": "stdout",
     "output_type": "stream",
     "text": [
      "1810769107040\n",
      "1810769107040\n",
      "1810769103584\n",
      "True\n",
      "False\n"
     ]
    }
   ],
   "source": [
    "a: str = \"Abc\"\n",
    "b: str = \"Abc\"\n",
    "c: str = \"ABc\"\n",
    "\n",
    "print(id(a))\n",
    "print(id(b))\n",
    "print(id(c))\n",
    "\n",
    "print(a is b)\n",
    "print(a is c)"
   ]
  },
  {
   "cell_type": "markdown",
   "metadata": {},
   "source": [
    "Membership Operators"
   ]
  },
  {
   "cell_type": "code",
   "execution_count": 55,
   "metadata": {},
   "outputs": [
    {
     "name": "stdout",
     "output_type": "stream",
     "text": [
      "True\n",
      "False\n",
      "True\n"
     ]
    }
   ],
   "source": [
    "a: list[str] = [\"ammar\", \"aamir\"]\n",
    "\n",
    "print(\"ammar\" in a)\n",
    "print(\"Ammar\" in a)\n",
    "print(\"Ammar\" not in a)"
   ]
  },
  {
   "cell_type": "markdown",
   "metadata": {},
   "source": [
    "Membership Operator example with User Input"
   ]
  },
  {
   "cell_type": "code",
   "execution_count": 56,
   "metadata": {},
   "outputs": [
    {
     "name": "stdout",
     "output_type": "stream",
     "text": [
      "False\n"
     ]
    }
   ],
   "source": [
    "a: list[str] = [\"Ammar\", \"Aamir\"]\n",
    "\n",
    "uinput :str = input(\"Enter your name\")\n",
    "\n",
    "print(uinput in a)"
   ]
  },
  {
   "cell_type": "markdown",
   "metadata": {},
   "source": [
    "Multiple Assignment"
   ]
  },
  {
   "cell_type": "code",
   "execution_count": 4,
   "metadata": {},
   "outputs": [
    {
     "name": "stdout",
     "output_type": "stream",
     "text": [
      "1\n",
      "2\n",
      "3\n"
     ]
    }
   ],
   "source": [
    "x, y, z = 1, 2, 3\n",
    "\n",
    "print(x)\n",
    "print(y)\n",
    "print(z)"
   ]
  },
  {
   "cell_type": "markdown",
   "metadata": {},
   "source": [
    "Shuffling"
   ]
  },
  {
   "cell_type": "code",
   "execution_count": null,
   "metadata": {},
   "outputs": [
    {
     "name": "stdout",
     "output_type": "stream",
     "text": [
      "4 2\n",
      "2 4\n"
     ]
    }
   ],
   "source": [
    "a : int = 4\n",
    "b : int = 2\n",
    "\n",
    "print(a,b)\n",
    "\n",
    "a , b = b , a\n",
    "\n",
    "print(a,b)"
   ]
  },
  {
   "cell_type": "markdown",
   "metadata": {},
   "source": [
    "Multiple Data Types"
   ]
  },
  {
   "cell_type": "code",
   "execution_count": 4,
   "metadata": {},
   "outputs": [
    {
     "name": "stdout",
     "output_type": "stream",
     "text": [
      "20\n"
     ]
    }
   ],
   "source": [
    "age: int | str = 20\n",
    "\n",
    "age = \"20\"\n",
    "print(age)"
   ]
  },
  {
   "cell_type": "markdown",
   "metadata": {},
   "source": [
    "type function"
   ]
  },
  {
   "cell_type": "code",
   "execution_count": 6,
   "metadata": {},
   "outputs": [
    {
     "name": "stdout",
     "output_type": "stream",
     "text": [
      "20\n",
      "<class 'int'>\n",
      "20\n",
      "<class 'str'>\n"
     ]
    }
   ],
   "source": [
    "age: int | str = 20\n",
    "\n",
    "print(age)\n",
    "print(type(age))\n",
    "\n",
    "age = \"20\"\n",
    "print(age)\n",
    "print(type(age))"
   ]
  },
  {
   "cell_type": "markdown",
   "metadata": {},
   "source": [
    "Multiple Data Types In List"
   ]
  },
  {
   "cell_type": "code",
   "execution_count": 7,
   "metadata": {},
   "outputs": [
    {
     "name": "stdout",
     "output_type": "stream",
     "text": [
      "['Ammar', 'Aamir', 23]\n"
     ]
    }
   ],
   "source": [
    "data: list[str|int] = [\"Ammar\" , \"Aamir\" , 23]\n",
    "print(data)"
   ]
  },
  {
   "cell_type": "markdown",
   "metadata": {},
   "source": [
    "Unzipping"
   ]
  },
  {
   "cell_type": "code",
   "execution_count": 3,
   "metadata": {},
   "outputs": [
    {
     "name": "stdout",
     "output_type": "stream",
     "text": [
      "Ammar Aamir 23\n",
      "['Ammar', 'Aamir', 23]\n",
      "Ammar Aamir 23\n"
     ]
    }
   ],
   "source": [
    "a , b , c = (\"Ammar\" , \"Aamir\" , 23)\n",
    "print(a,b,c)\n",
    "\n",
    "data: list[str|int] = [\"Ammar\" , \"Aamir\" , 23]\n",
    "print(data)\n",
    "print(*data)"
   ]
  },
  {
   "cell_type": "markdown",
   "metadata": {},
   "source": [
    "Lists in detail"
   ]
  },
  {
   "cell_type": "code",
   "execution_count": 3,
   "metadata": {},
   "outputs": [
    {
     "name": "stdout",
     "output_type": "stream",
     "text": [
      "Ammar\n",
      "Aamir\n",
      "<class 'list'>\n",
      "<class 'str'>\n"
     ]
    }
   ],
   "source": [
    "from typing import Any\n",
    "\n",
    "names : list[Any] = [\"Ammar\",\"Aamir\"]\n",
    "print(names[0])\n",
    "print(names[-1])\n",
    "\n",
    "print(type(names))\n",
    "print(type(names[0]))"
   ]
  },
  {
   "cell_type": "markdown",
   "metadata": {},
   "source": [
    "List Function"
   ]
  },
  {
   "cell_type": "code",
   "execution_count": 59,
   "metadata": {},
   "outputs": [
    {
     "data": {
      "text/plain": [
       "['a', 'm', 'm', 'a', 'r']"
      ]
     },
     "execution_count": 59,
     "metadata": {},
     "output_type": "execute_result"
    }
   ],
   "source": [
    "list(\"ammar\")"
   ]
  },
  {
   "cell_type": "markdown",
   "metadata": {},
   "source": [
    "Slice Function"
   ]
  },
  {
   "cell_type": "code",
   "execution_count": 4,
   "metadata": {},
   "outputs": [
    {
     "name": "stdout",
     "output_type": "stream",
     "text": [
      "google\n"
     ]
    }
   ],
   "source": [
    "# .slice(start, end, step)\n",
    "\n",
    "website : str = \"www.google.com\"\n",
    "\n",
    "slice = slice(4,-4)\n",
    "\n",
    "print(website[slice])\n",
    "\n",
    "#print(website.slice(4, -4, 1)) will give error"
   ]
  },
  {
   "cell_type": "markdown",
   "metadata": {},
   "source": [
    "Indexing and slicing in detail\n",
    "[initial value: end value: steps]\n",
    "[0::1]"
   ]
  },
  {
   "cell_type": "code",
   "execution_count": 12,
   "metadata": {},
   "outputs": [
    {
     "name": "stdout",
     "output_type": "stream",
     "text": [
      "['a', 'b', 'c', 'd', 'e']\n",
      "['e', 'd', 'c', 'b', 'a']\n",
      "['d', 'c', 'b', 'a']\n",
      "['a', 'b', 'c', 'd']\n",
      "['a', 'c', 'e']\n"
     ]
    }
   ],
   "source": [
    "#                          0    1    2    3    4\n",
    "characters : list[str] = ['a', 'b', 'c', 'd', 'e']\n",
    "#                         -5   -4    -3   -2   -1     \n",
    "print(characters[::1])\n",
    "print(characters[::-1])\n",
    "print(characters[-2::-1])\n",
    "print(characters[0:4:1])\n",
    "print(characters[::2])"
   ]
  },
  {
   "cell_type": "markdown",
   "metadata": {},
   "source": [
    "Sort Method (used with lists)\n",
    "permanently changes the list"
   ]
  },
  {
   "cell_type": "code",
   "execution_count": null,
   "metadata": {},
   "outputs": [
    {
     "name": "stdout",
     "output_type": "stream",
     "text": [
      "['usman', 'ammar', 'ali', 'aamir']\n"
     ]
    }
   ],
   "source": [
    "students : list[str] = [\"ammar\", \"aamir\", \"ali\", \"usman\"] #will not work with anything else e,g tuples\n",
    "\n",
    "students.sort(reverse = True)\n",
    "\n",
    "print(students)"
   ]
  },
  {
   "cell_type": "markdown",
   "metadata": {},
   "source": [
    "Sorted Function (used with iterables) changes value temporarily"
   ]
  },
  {
   "cell_type": "code",
   "execution_count": null,
   "metadata": {},
   "outputs": [
    {
     "name": "stdout",
     "output_type": "stream",
     "text": [
      "['usman', 'ammar', 'ali', 'aamir']\n",
      "('ammar', 'aamir', 'ali', 'usman')\n"
     ]
    }
   ],
   "source": [
    "students : tuple[str, str, str, str] = (\"ammar\", \"aamir\", \"ali\", \"usman\")\n",
    "\n",
    "sorted_students = sorted(students, reverse = True)\n",
    "\n",
    "print(sorted_students)\n",
    "print(students)"
   ]
  },
  {
   "cell_type": "markdown",
   "metadata": {},
   "source": [
    "List Methods"
   ]
  },
  {
   "cell_type": "code",
   "execution_count": 62,
   "metadata": {},
   "outputs": [
    {
     "name": "stdout",
     "output_type": "stream",
     "text": [
      "['Ammar', 'Aamir', 'Ali']\n",
      "['Ammar', 'Usman', 'Ali']\n",
      "['Usman', 'Ali']\n",
      "Ali\n",
      "['Usman']\n",
      "[]\n",
      "['Ammar', 'Aamir']\n",
      "['Ammar', 'Usman', 'Aamir']\n",
      "['Ammar', 'Usman', 'Aamir']\n",
      "['Ammar', 'Usman', 'Ali']\n",
      "['Ammar', 'Usman', 'Aamir']\n",
      "1\n",
      "['Ammar', 'Usman', 'Aamir', 'New', 'list']\n",
      "['Ammar', 'Aamir', 'New', 'list']\n",
      "0\n",
      "['list', 'New', 'Aamir', 'Ammar']\n",
      "['Aamir', 'Ammar', 'New', 'list']\n",
      "[]\n"
     ]
    }
   ],
   "source": [
    "names : list[str] = [\"Ammar\", \"Aamir\", \"Ali\"]\n",
    "print(names)\n",
    "\n",
    "# non returning methods\n",
    "names[1] = \"Usman\"\n",
    "print(names) # ['Ammar', 'Usman', 'Ali']\n",
    "\n",
    "del names[0]\n",
    "print(names) # ['Usman', 'Ali']\n",
    "\n",
    "# returning methods\n",
    "\n",
    "a : str = names.pop()\n",
    "print(a) # Ali\n",
    "print(names) # ['Usman']\n",
    "\n",
    "names.pop(0)\n",
    "print(names) # []\n",
    "\n",
    "names.append(\"Ammar\")\n",
    "names.append(\"Aamir\")\n",
    "print(names) # ['Ammar', 'Aamir']\n",
    "\n",
    "names.insert(1, \"Usman\")\n",
    "print(names) # ['Ammar', 'Usman', 'Aamir']\n",
    "\n",
    "b = names.copy()\n",
    "print(b) # ['Ammar', 'Usman', 'Aamir']\n",
    "b[2] = \"Ali\"\n",
    "print(b) # ['Ammar', 'Usman', 'Ali']\n",
    "print(names) # ['Ammar', 'Usman', 'Aamur']\n",
    "\n",
    "print(names.count(\"Ammar\")) # 1\n",
    "\n",
    "newlist : list[str] = [\"New\", \"list\"]\n",
    "names.extend(newlist)\n",
    "print(names) # ['Ammar', 'Usman', 'Aamir', 'New', 'list']\n",
    "\n",
    "names.remove(\"Usman\")\n",
    "print(names) # ['Ammar', 'Aamir', 'New', 'list']\n",
    "\n",
    "print(names.index(\"Ammar\")) # 0\n",
    "\n",
    "names.reverse()\n",
    "print(names) # ['list', 'New', 'Aamir', 'Ammar']\n",
    "\n",
    "names.sort()\n",
    "print(names) # ['Aamir', 'Ammar', 'New', 'list']\n",
    "\n",
    "names.clear()\n",
    "print(names) # []"
   ]
  },
  {
   "cell_type": "markdown",
   "metadata": {},
   "source": [
    "Split Method"
   ]
  },
  {
   "cell_type": "code",
   "execution_count": 63,
   "metadata": {},
   "outputs": [
    {
     "name": "stdout",
     "output_type": "stream",
     "text": [
      "['Ammar', ' Aamir', ' Ali']\n"
     ]
    }
   ],
   "source": [
    "names = \"Ammar, Aamir, Ali\"\n",
    "new_list = names.split(\",\")\n",
    "print(new_list)"
   ]
  },
  {
   "cell_type": "markdown",
   "metadata": {},
   "source": [
    "Split Method with user input"
   ]
  },
  {
   "cell_type": "code",
   "execution_count": 7,
   "metadata": {},
   "outputs": [
    {
     "name": "stdout",
     "output_type": "stream",
     "text": [
      "['ammar', 'aamir', 'ali']\n"
     ]
    }
   ],
   "source": [
    "user_input : str = input(\"Enter names with ','\")\n",
    "user_list = user_input.split(\",\")\n",
    "\n",
    "print(user_list)"
   ]
  },
  {
   "cell_type": "markdown",
   "metadata": {},
   "source": [
    "For Loop"
   ]
  },
  {
   "cell_type": "code",
   "execution_count": 65,
   "metadata": {},
   "outputs": [
    {
     "name": "stdout",
     "output_type": "stream",
     "text": [
      "Ammar\n",
      "Nice to meet you\n",
      "Aamir\n",
      "Nice to meet you\n",
      "Ali\n",
      "Nice to meet you\n",
      "\n",
      "Yolo\n"
     ]
    }
   ],
   "source": [
    "names : list[str] = [\"Ammar\", \"Aamir\", \"Ali\"]\n",
    "\n",
    "for i in names:\n",
    "    print(i)\n",
    "    print(\"Nice to meet you\")\n",
    "\n",
    "print(\"\\nYolo\")"
   ]
  },
  {
   "cell_type": "markdown",
   "metadata": {},
   "source": [
    "Enumerate Function"
   ]
  },
  {
   "cell_type": "code",
   "execution_count": 14,
   "metadata": {},
   "outputs": [
    {
     "name": "stdout",
     "output_type": "stream",
     "text": [
      "[(0, 'Ammar'), (1, 'Aamir'), (2, 'Ali')]\n",
      "0 Ammar\n",
      "1 Aamir\n",
      "2 Ali\n"
     ]
    }
   ],
   "source": [
    "names : list[str] = [\"Ammar\", \"Aamir\", \"Ali\"]\n",
    "\n",
    "print(list(enumerate(names)))\n",
    "\n",
    "for index, name in enumerate(names):\n",
    "    print(index,name)"
   ]
  },
  {
   "cell_type": "markdown",
   "metadata": {},
   "source": [
    "Numbers with loops (Range function) range(start,end,steps)"
   ]
  },
  {
   "cell_type": "code",
   "execution_count": 68,
   "metadata": {},
   "outputs": [
    {
     "name": "stdout",
     "output_type": "stream",
     "text": [
      "[0, 1, 2, 3, 4, 5, 6, 7, 8, 9]\n",
      "2\n",
      "4\n",
      "6\n",
      "8\n",
      "10\n",
      "12\n",
      "14\n",
      "16\n",
      "18\n",
      "20\n"
     ]
    }
   ],
   "source": [
    "print(list(range(10))) # starting 0 ending n-1\n",
    "\n",
    "for n in range(2,21,2):\n",
    "    print(n)"
   ]
  },
  {
   "cell_type": "markdown",
   "metadata": {},
   "source": [
    "Generating Tables"
   ]
  },
  {
   "cell_type": "code",
   "execution_count": 7,
   "metadata": {},
   "outputs": [
    {
     "name": "stdout",
     "output_type": "stream",
     "text": [
      "2 x 1 = 2\n",
      "2 x 2 = 4\n",
      "2 x 3 = 6\n",
      "2 x 4 = 8\n",
      "2 x 5 = 10\n",
      "2 x 6 = 12\n",
      "2 x 7 = 14\n",
      "2 x 8 = 16\n",
      "2 x 9 = 18\n",
      "2 x 10 = 20\n"
     ]
    }
   ],
   "source": [
    "table_number = int(input(\"Enter Number\"))\n",
    "\n",
    "for n in range(1,11):\n",
    "    print(f\"{table_number} x {n} = {table_number*n}\")"
   ]
  },
  {
   "cell_type": "markdown",
   "metadata": {},
   "source": [
    "List Comprehensive"
   ]
  },
  {
   "cell_type": "code",
   "execution_count": 9,
   "metadata": {},
   "outputs": [
    {
     "name": "stdout",
     "output_type": "stream",
     "text": [
      "1\n",
      "4\n",
      "9\n",
      "16\n",
      "25\n",
      "36\n",
      "49\n",
      "64\n",
      "81\n",
      "100\n"
     ]
    },
    {
     "data": {
      "text/plain": [
       "[1, 4, 9, 16, 25, 36, 49, 64, 81, 100]"
      ]
     },
     "execution_count": 9,
     "metadata": {},
     "output_type": "execute_result"
    }
   ],
   "source": [
    "# Normal code\n",
    "\n",
    "for i in range(1,11):\n",
    "    print(f\"{i**2}\")\n",
    "\n",
    "# List comprehensive\n",
    "\n",
    "([i**2 for i in range(1,11)])"
   ]
  },
  {
   "cell_type": "markdown",
   "metadata": {},
   "source": [
    "List Functions"
   ]
  },
  {
   "cell_type": "code",
   "execution_count": 8,
   "metadata": {},
   "outputs": [
    {
     "name": "stdout",
     "output_type": "stream",
     "text": [
      "1\n",
      "9\n",
      "45\n"
     ]
    }
   ],
   "source": [
    "numbers : list[int] = [1,2,3,4,5,6,7,8,9]\n",
    "\n",
    "print(min(numbers))\n",
    "print(max(numbers))\n",
    "print(sum(numbers))"
   ]
  },
  {
   "cell_type": "markdown",
   "metadata": {},
   "source": [
    "Random.choice"
   ]
  },
  {
   "cell_type": "code",
   "execution_count": null,
   "metadata": {},
   "outputs": [
    {
     "name": "stdout",
     "output_type": "stream",
     "text": [
      "scizzors\n"
     ]
    }
   ],
   "source": [
    "import random\n",
    "\n",
    "choices: list[str] = [\"rock\", \"paper\", \"scizzors\"]\n",
    "\n",
    "ai_choice = random.choice(choices)\n",
    "print(ai_choice)"
   ]
  },
  {
   "cell_type": "markdown",
   "metadata": {},
   "source": [
    "Heads/Tails"
   ]
  },
  {
   "cell_type": "code",
   "execution_count": null,
   "metadata": {},
   "outputs": [
    {
     "name": "stdout",
     "output_type": "stream",
     "text": [
      "Tails\n"
     ]
    }
   ],
   "source": [
    "import random\n",
    "\n",
    "choices: list[str] = [\"Heads\", \"Tails\"]\n",
    "\n",
    "ai_choice = random.choice(choices)\n",
    "print(ai_choice)"
   ]
  },
  {
   "cell_type": "markdown",
   "metadata": {},
   "source": [
    "Random.Shuffle"
   ]
  },
  {
   "cell_type": "code",
   "execution_count": null,
   "metadata": {},
   "outputs": [
    {
     "name": "stdout",
     "output_type": "stream",
     "text": [
      "['q', 4, 'k', 6, 7, 3, 8, 5, 2, 'j', 9, 'a', 1]\n"
     ]
    }
   ],
   "source": [
    "import random\n",
    "card : list[str | int] = [1,2,3,4,5,6,7,8,9,\"j\",\"q\",\"k\",\"a\"]\n",
    "\n",
    "random.shuffle(card)\n",
    "print(card)"
   ]
  },
  {
   "cell_type": "markdown",
   "metadata": {},
   "source": [
    "if-else"
   ]
  },
  {
   "cell_type": "code",
   "execution_count": null,
   "metadata": {},
   "outputs": [
    {
     "name": "stdout",
     "output_type": "stream",
     "text": [
      "You are above 18\n"
     ]
    }
   ],
   "source": [
    "age: int = int(input(\"Enter your age: \"))\n",
    "\n",
    "if age > 18:\n",
    "    print(\"You are above 18\")\n",
    "else:\n",
    "    print(\"You are below 18\")"
   ]
  },
  {
   "cell_type": "markdown",
   "metadata": {},
   "source": [
    "if-else Comprehensive"
   ]
  },
  {
   "cell_type": "code",
   "execution_count": null,
   "metadata": {},
   "outputs": [
    {
     "name": "stdout",
     "output_type": "stream",
     "text": [
      "True\n",
      "False\n"
     ]
    }
   ],
   "source": [
    "# Normal if-else\n",
    "\n",
    "if True:\n",
    "    print(\"True\")\n",
    "else:\n",
    "    print(\"False\")\n",
    "\n",
    "# Comprehensive\n",
    "\n",
    "print(\"True\") if False else print(\"False\")"
   ]
  },
  {
   "cell_type": "markdown",
   "metadata": {},
   "source": [
    "Union Type:"
   ]
  },
  {
   "cell_type": "code",
   "execution_count": null,
   "metadata": {},
   "outputs": [
    {
     "name": "stdout",
     "output_type": "stream",
     "text": [
      "90.2\n"
     ]
    }
   ],
   "source": [
    "from typing import Union\n",
    "\n",
    "grade : Union[float, int] = 90\n",
    "grade = 90.2\n",
    "\n",
    "print(grade)"
   ]
  },
  {
   "cell_type": "markdown",
   "metadata": {},
   "source": [
    "if-elif-else"
   ]
  },
  {
   "cell_type": "code",
   "execution_count": null,
   "metadata": {},
   "outputs": [
    {
     "name": "stdout",
     "output_type": "stream",
     "text": [
      "Your grade is Fail\n"
     ]
    }
   ],
   "source": [
    "from typing import Union\n",
    "\n",
    "marks : Union[float, int] = float(input(\"Enter your marks\"))\n",
    "#        float | int\n",
    "\n",
    "grade : Union[str, None]\n",
    "#       optional[str]\n",
    "\n",
    "if (marks >= 80) and (marks <= 100):\n",
    "    grade = \"A\"\n",
    "elif (marks >= 60 and marks < 80):\n",
    "    grade = \"B\"\n",
    "elif (marks >= 0 and marks < 60):\n",
    "    grade = \"Fail\"\n",
    "else:\n",
    "    print(\"Invalid\")\n",
    "\n",
    "print(f\"Your grade is {grade}\")"
   ]
  },
  {
   "cell_type": "markdown",
   "metadata": {},
   "source": [
    "Type Casting"
   ]
  },
  {
   "cell_type": "code",
   "execution_count": 11,
   "metadata": {},
   "outputs": [],
   "source": [
    "from typing import Union\n",
    "\n",
    "per_type = Union[float, int]\n",
    "\n",
    "percentages : per_type = 233 \n",
    "percentage : list[per_type] = [2323, 323, 13.2323]"
   ]
  },
  {
   "cell_type": "markdown",
   "metadata": {},
   "source": [
    "if-else & unzipping with loops"
   ]
  },
  {
   "cell_type": "code",
   "execution_count": null,
   "metadata": {},
   "outputs": [
    {
     "name": "stdout",
     "output_type": "stream",
     "text": [
      "Username or password incorrect\n"
     ]
    }
   ],
   "source": [
    "database : list[tuple[str,str]] = [(\"Ammar\", \"123\"), (\"Aamir\", \"345\"), (\"USman\", \"453\")]\n",
    "\n",
    "input_user : str = input(\"Enter your username:\")\n",
    "input_pass : str = input(\"Enter your password:\")\n",
    "\n",
    "for name in database:\n",
    "    user, password = name\n",
    "\n",
    "    if input_user == user and input_pass == password:\n",
    "        print(\"Valid\")\n",
    "        break\n",
    "else:\n",
    "    print(\"Username or password incorrect\")"
   ]
  },
  {
   "cell_type": "markdown",
   "metadata": {},
   "source": [
    "Zipping and Keying"
   ]
  },
  {
   "cell_type": "code",
   "execution_count": 24,
   "metadata": {},
   "outputs": [
    {
     "name": "stdout",
     "output_type": "stream",
     "text": [
      "[0, 1, 2, 3, 4, 5]\n",
      "[(0, 92, 'A'), (1, 72, 'B'), (2, 82.2, 'A'), (3, 76, 'B'), (4, 93, 'A'), (5, 21, 'Fail')]\n"
     ]
    },
    {
     "data": {
      "text/plain": [
       "[(4, 93, 'A'),\n",
       " (0, 92, 'A'),\n",
       " (2, 82.2, 'A'),\n",
       " (3, 76, 'B'),\n",
       " (1, 72, 'B'),\n",
       " (5, 21, 'Fail')]"
      ]
     },
     "execution_count": 24,
     "metadata": {},
     "output_type": "execute_result"
    }
   ],
   "source": [
    "from typing import Union\n",
    "\n",
    "pers = Union[float, int]\n",
    "\n",
    "percentages : list[pers] = [92, 72, 82.2, 76, 93, 21]\n",
    "roll_no : list[int] = list(range(len(percentages)))\n",
    "\n",
    "#print(roll_no) # [0, 1, 2, 3, 4, 5]\n",
    "\n",
    "grades : list[str] = []\n",
    "\n",
    "for per in percentages:\n",
    "    grade : str = \"\"\n",
    "\n",
    "    if (per >= 0) and (per < 50):\n",
    "        grade = \"Fail\"\n",
    "    elif (per >= 50) and (per < 80):\n",
    "        grade = \"B\"\n",
    "    elif (per >= 80) and (per <= 100):\n",
    "        grade = \"A\"\n",
    "\n",
    "    grades.append(grade)\n",
    "\n",
    "# print(percentages) # [92, 72, 82.2]\n",
    "# print(grades) # ['A', 'B', 'A']\n",
    "\n",
    "# zipping with the help of alteration\n",
    "\n",
    "data_base = list(zip(roll_no, percentages, grades))\n",
    "print(data_base)\n",
    "\n",
    "sorted(data_base, key=lambda x:x[1], reverse=True) # x = 1st tuple, x[1] = 1st index"
   ]
  },
  {
   "cell_type": "markdown",
   "metadata": {},
   "source": [
    "Dictionary (objects(key value pair))"
   ]
  },
  {
   "cell_type": "code",
   "execution_count": null,
   "metadata": {},
   "outputs": [
    {
     "name": "stdout",
     "output_type": "stream",
     "text": [
      "{'name': 'Ammar', 'fname': 'Aamir', 'roll_no': '123', 'new_dict': {'n': 2, 'w': '5'}}\n",
      "{'name': 'Ammar', 'fname': 'Aamir', 'roll_no': '133', 'new_dict': {'n': 2, 'w': '5'}}\n",
      "Aamir\n",
      "{'name': 'Ammar', 'fname': 'Aamir', 'new_dict': {'n': 2, 'w': '5'}}\n",
      "5\n"
     ]
    }
   ],
   "source": [
    "from typing import Dict\n",
    "from typing import Union\n",
    "\n",
    "key = Union[int, str]\n",
    "value = Union[int, str, list, dict, tuple, set]\n",
    "\n",
    "data : Dict[key, value] = {\n",
    "    \"name\" : \"Ammar\",\n",
    "    \"fname\" : \"Aamir\",\n",
    "    \"roll_no\" : \"123\",\n",
    "    \"new_dict\" : {\"n\" : 2, \"w\" : \"5\"}\n",
    "}\n",
    "\n",
    "print(data) # {'name': 'Ammar', 'fname': 'Aamir', 'roll_no': '123', 'new_dict': {'n': 2, 'w': '5'}}\n",
    "\n",
    "data[\"roll_no\"] = \"133\"\n",
    "print(data) # {'name': 'Ammar', 'fname': 'Aamir', 'roll_no': '133', 'new_dict': {'n': 2, 'w': '5'}}\n",
    "\n",
    "print(data[\"fname\"]) # Aamir\n",
    "\n",
    "del data[\"roll_no\"]\n",
    "print(data) # {'name': 'Ammar', 'fname': 'Aamir', 'new_dict': {'n': 2, 'w': '5'}}\n",
    "\n",
    "#print(data[\"new_dict\"][\"w\"]) # type error for some reason, need to fix"
   ]
  },
  {
   "cell_type": "markdown",
   "metadata": {},
   "source": [
    "Dictionary Methods"
   ]
  },
  {
   "cell_type": "code",
   "execution_count": null,
   "metadata": {},
   "outputs": [
    {
     "name": "stdout",
     "output_type": "stream",
     "text": [
      "Ammar\n",
      "None\n",
      "Nope\n",
      "['name', 'fname', 'roll_no', 'new_dict']\n",
      "['Ammar', 'Aamir', '123', {'n': 2, 'w': '5'}]\n",
      "[('name', 'Ammar'), ('fname', 'Aamir'), ('roll_no', '123'), ('new_dict', {'n': 2, 'w': '5'})]\n"
     ]
    }
   ],
   "source": [
    "from typing import Dict\n",
    "from typing import Union\n",
    "\n",
    "key = Union[int, str]\n",
    "value = Union[int, str, list, dict, tuple, set]\n",
    "\n",
    "data : Dict[key, value] = {\n",
    "    \"name\" : \"Ammar\",\n",
    "    \"fname\" : \"Aamir\",\n",
    "    \"roll_no\" : \"123\",\n",
    "    \"new_dict\" : {\"n\" : 2, \"w\" : \"5\"}\n",
    "}\n",
    "\n",
    "print(data.get(\"name\")) # Ammar #will not give error if there is no \"name\"\n",
    "print(data.get(\"no\")) # None\n",
    "print(data.get(\"no\", \"Nope\")) # Nope\n",
    "\n",
    "print(list(data.keys())) # ['name', 'fname', 'roll_no', 'new_dict']\n",
    "print(list(data.values())) # ['Ammar', 'Aamir', '123', {'n': 2, 'w': '5'}]\n",
    "print(list(data.items())) # [('name', 'Ammar'), ('fname', 'Aamir'), ('roll_no', '123'), ('new_dict', {'n': 2, 'w': '5'})]"
   ]
  },
  {
   "cell_type": "markdown",
   "metadata": {},
   "source": [
    "Dict with loops"
   ]
  },
  {
   "cell_type": "code",
   "execution_count": null,
   "metadata": {},
   "outputs": [
    {
     "name": "stdout",
     "output_type": "stream",
     "text": [
      "name\n",
      "fname\n",
      "roll_no\n",
      "new_dict\n",
      "\n",
      "name\n",
      "fname\n",
      "roll_no\n",
      "new_dict\n",
      "\n",
      "Ammar\n",
      "Aamir\n",
      "123\n",
      "{'n': 2, 'w': '5'}\n",
      "\n",
      "name Ammar\n",
      "fname Aamir\n",
      "roll_no 123\n",
      "new_dict {'n': 2, 'w': '5'}\n"
     ]
    }
   ],
   "source": [
    "from typing import Dict\n",
    "from typing import Union\n",
    "\n",
    "key = Union[int, str]\n",
    "value = Union[int, str, list, dict, tuple, set]\n",
    "\n",
    "data : Dict[key, value] = {\n",
    "    \"name\" : \"Ammar\",\n",
    "    \"fname\" : \"Aamir\",\n",
    "    \"roll_no\" : \"123\",\n",
    "    \"new_dict\" : {\"n\" : 2, \"w\" : \"5\"}\n",
    "}\n",
    "\n",
    "for d in data: \n",
    "    print(d) # prints keys\n",
    "\n",
    "print()\n",
    "\n",
    "for k in data.keys():\n",
    "    print(k) # prints keys\n",
    "\n",
    "print()\n",
    "\n",
    "for v in data.values():\n",
    "    print(v) # prints values\n",
    "\n",
    "print()\n",
    "\n",
    "for k,v in data.items(): # unzipping\n",
    "    print(k, v) # prints values and keys"
   ]
  },
  {
   "cell_type": "markdown",
   "metadata": {},
   "source": [
    "Dict Comprehensive"
   ]
  },
  {
   "cell_type": "code",
   "execution_count": null,
   "metadata": {},
   "outputs": [
    {
     "data": {
      "text/plain": [
       "{'name': 'Ammar',\n",
       " 'fname': 'Aamir',\n",
       " 'roll_no': '123',\n",
       " 'new_dict': {'n': 2, 'w': '5'}}"
      ]
     },
     "execution_count": 16,
     "metadata": {},
     "output_type": "execute_result"
    }
   ],
   "source": [
    "from typing import Dict, Tuple\n",
    "from typing import Union\n",
    "\n",
    "key = Union[int, str]\n",
    "value = Union[int, str, list, Dict, Tuple, set]\n",
    "\n",
    "data : Dict[key, value] = {\n",
    "    \"name\" : \"Ammar\",\n",
    "    \"fname\" : \"Aamir\",\n",
    "    \"roll_no\" : \"123\",\n",
    "    \"new_dict\" : {\"n\" : 2, \"w\" : \"5\"}\n",
    "}\n",
    "\n",
    "{k:v for k,v in data.items()}\n",
    "\n",
    "# reversing values with keys\n",
    "\n",
    "#{v:k for k,v in data.items()} #error for some reason"
   ]
  },
  {
   "cell_type": "markdown",
   "metadata": {},
   "source": [
    "Dict Methods Continued"
   ]
  },
  {
   "cell_type": "code",
   "execution_count": null,
   "metadata": {},
   "outputs": [
    {
     "name": "stdout",
     "output_type": "stream",
     "text": [
      "Ammar\n",
      "{'fname': 'Aamir', 'roll_no': '123', 'new_dict': {'n': 2, 'w': '5'}}\n",
      "('new_dict', {'n': 2, 'w': '5'})\n",
      "{'fname': 'Aamir', 'roll_no': '123'}\n",
      "{'fname': 'Aamir', 'roll_no': '123', 'Country': 'Pakistan'}\n",
      "{'fname': 'Aamir', 'roll_no': '123', 'Country': 'UK', 'Education': 'Graduate'}\n"
     ]
    }
   ],
   "source": [
    "from typing import Dict, Tuple\n",
    "from typing import Union\n",
    "\n",
    "key = Union[int, str]\n",
    "value = Union[int, str, list, Dict, Tuple, set]\n",
    "\n",
    "data : Dict[key, value] = {\n",
    "    \"name\" : \"Ammar\",\n",
    "    \"fname\" : \"Aamir\",\n",
    "    \"roll_no\" : \"123\",\n",
    "    \"new_dict\" : {\"n\" : 2, \"w\" : \"5\"}\n",
    "}\n",
    "\n",
    "popped = data.pop(\"name\")\n",
    "print(popped)\n",
    "print(data)\n",
    "\n",
    "last_removed = data.popitem()\n",
    "print(last_removed)\n",
    "print(data)\n",
    "\n",
    "data.setdefault(\"Country\",\"Pakistan\")\n",
    "print(data)\n",
    "\n",
    "\n",
    "data1 : Dict[key, value] = {\n",
    "    \"Country\" : \"UK\",\n",
    "    \"Education\" : \"Graduate\"\n",
    "}\n",
    "\n",
    "data.update(data1)\n",
    "print(data)"
   ]
  },
  {
   "cell_type": "markdown",
   "metadata": {},
   "source": [
    "Converting Dict in JSON format"
   ]
  },
  {
   "cell_type": "code",
   "execution_count": null,
   "metadata": {},
   "outputs": [
    {
     "name": "stdout",
     "output_type": "stream",
     "text": [
      "<class 'str'>\n",
      "{\"name\": \"Ammar\", \"fname\": \"Aamir\", \"roll_no\": \"123\", \"new_dict\": {\"n\": 2, \"w\": \"5\"}}\n"
     ]
    }
   ],
   "source": [
    "from typing import Dict, Tuple\n",
    "from typing import Union\n",
    "import json\n",
    "\n",
    "key = Union[int, str]\n",
    "value = Union[int, str, list, Dict, Tuple, set]\n",
    "\n",
    "data : Dict[key, value] = {\n",
    "    \"name\" : \"Ammar\",\n",
    "    \"fname\" : \"Aamir\",\n",
    "    \"roll_no\" : \"123\",\n",
    "    \"new_dict\" : {\"n\" : 2, \"w\" : \"5\"}\n",
    "}\n",
    "\n",
    "data1 = json.dumps(data)\n",
    "print(type(data1))\n",
    "print(data1)"
   ]
  },
  {
   "cell_type": "markdown",
   "metadata": {},
   "source": [
    "While Loop"
   ]
  },
  {
   "cell_type": "code",
   "execution_count": null,
   "metadata": {},
   "outputs": [
    {
     "name": "stdout",
     "output_type": "stream",
     "text": [
      "0\n",
      "1\n",
      "2\n",
      "3\n",
      "4\n",
      "5\n",
      "6\n",
      "7\n",
      "8\n",
      "9\n"
     ]
    }
   ],
   "source": [
    "flag : bool = True\n",
    "\n",
    "num: int = 0\n",
    "\n",
    "while flag:\n",
    "    print(num)\n",
    "    num += 1\n",
    "\n",
    "    if num == 10:\n",
    "        break"
   ]
  },
  {
   "cell_type": "markdown",
   "metadata": {},
   "source": [
    "While Loop Example"
   ]
  },
  {
   "cell_type": "code",
   "execution_count": null,
   "metadata": {},
   "outputs": [
    {
     "name": "stdout",
     "output_type": "stream",
     "text": [
      "type 'q' to escape\n"
     ]
    },
    {
     "data": {
      "text/plain": [
       "[{'name': 'edw', 'education': 'ewd'}, {'name': 'wed', 'education': 'wed'}]"
      ]
     },
     "metadata": {},
     "output_type": "display_data"
    }
   ],
   "source": [
    "from typing import Dict\n",
    "data_base : list[Dict[str,str]] = []\n",
    "\n",
    "flag : bool = True\n",
    "print(\"type 'q' to escape\")\n",
    "\n",
    "while flag:    \n",
    "    name : str = input(\"Enter your name: \")\n",
    "    education : str = input(\"Enter your education: \")\n",
    "\n",
    "    if \"q\" in name or \"q\" in education:\n",
    "        flag = False\n",
    "        break\n",
    "    data_base.append({\"name\": name, \"education\": education})\n",
    "\n",
    "display(data_base)"
   ]
  },
  {
   "cell_type": "markdown",
   "metadata": {},
   "source": [
    "Contunue in loops (skips that part)"
   ]
  },
  {
   "cell_type": "code",
   "execution_count": null,
   "metadata": {},
   "outputs": [
    {
     "name": "stdout",
     "output_type": "stream",
     "text": [
      "1\n",
      "2\n",
      "3\n",
      "4\n",
      "6\n",
      "7\n",
      "8\n",
      "9\n",
      "10\n"
     ]
    }
   ],
   "source": [
    "for i in range(1,11):\n",
    "    if (i==5):\n",
    "        continue\n",
    "    print(i)"
   ]
  },
  {
   "cell_type": "markdown",
   "metadata": {},
   "source": [
    "Pass in loops (skips the whole block)"
   ]
  },
  {
   "cell_type": "code",
   "execution_count": 25,
   "metadata": {},
   "outputs": [],
   "source": [
    "for i in range(0, 11):\n",
    "    pass"
   ]
  },
  {
   "cell_type": "markdown",
   "metadata": {},
   "source": [
    "Non-Return Functions"
   ]
  },
  {
   "cell_type": "code",
   "execution_count": null,
   "metadata": {},
   "outputs": [
    {
     "name": "stdout",
     "output_type": "stream",
     "text": [
      "nice\n",
      "None\n"
     ]
    }
   ],
   "source": [
    "a : None = print(\"nice\")\n",
    "\n",
    "print(a)"
   ]
  },
  {
   "cell_type": "markdown",
   "metadata": {},
   "source": [
    "Returning Functions"
   ]
  },
  {
   "cell_type": "code",
   "execution_count": null,
   "metadata": {},
   "outputs": [
    {
     "name": "stdout",
     "output_type": "stream",
     "text": [
      "8\n"
     ]
    }
   ],
   "source": [
    "a : int = len(\"pakistan\")\n",
    "\n",
    "print(a)"
   ]
  },
  {
   "cell_type": "markdown",
   "metadata": {},
   "source": [
    "User Generated Simple functions"
   ]
  },
  {
   "cell_type": "code",
   "execution_count": null,
   "metadata": {},
   "outputs": [
    {
     "name": "stdout",
     "output_type": "stream",
     "text": [
      "Nice to meet you\n"
     ]
    }
   ],
   "source": [
    "def fun()->None:\n",
    "    print(\"Nice to meet you\")\n",
    "\n",
    "fun()"
   ]
  },
  {
   "cell_type": "markdown",
   "metadata": {},
   "source": [
    "Adding two numbers with a function"
   ]
  },
  {
   "cell_type": "code",
   "execution_count": null,
   "metadata": {},
   "outputs": [
    {
     "name": "stdout",
     "output_type": "stream",
     "text": [
      "num1 value: 2 & num2 value: 3\n"
     ]
    },
    {
     "data": {
      "text/plain": [
       "5"
      ]
     },
     "execution_count": 20,
     "metadata": {},
     "output_type": "execute_result"
    }
   ],
   "source": [
    "def add(num1 : int, num2 : int)->int:\n",
    "    print(f'num1 value: {num1} & num2 value: {num2}')\n",
    "    return num1 + num2\n",
    "\n",
    "add(2,3)"
   ]
  },
  {
   "cell_type": "markdown",
   "metadata": {},
   "source": [
    "key arguments"
   ]
  },
  {
   "cell_type": "code",
   "execution_count": null,
   "metadata": {},
   "outputs": [
    {
     "name": "stdout",
     "output_type": "stream",
     "text": [
      "num1 value: 3 & num2 value: 2\n"
     ]
    },
    {
     "data": {
      "text/plain": [
       "5"
      ]
     },
     "execution_count": 21,
     "metadata": {},
     "output_type": "execute_result"
    }
   ],
   "source": [
    "def add(num1 : int, num2 : int)->int:\n",
    "    print(f'num1 value: {num1} & num2 value: {num2}')\n",
    "    return num1 + num2\n",
    "\n",
    "add(num2 = 2, num1= 3)"
   ]
  },
  {
   "cell_type": "markdown",
   "metadata": {},
   "source": [
    "Adding two numbers with a default parameter"
   ]
  },
  {
   "cell_type": "code",
   "execution_count": null,
   "metadata": {},
   "outputs": [
    {
     "data": {
      "text/plain": [
       "22"
      ]
     },
     "execution_count": 6,
     "metadata": {},
     "output_type": "execute_result"
    }
   ],
   "source": [
    "def add(num1 : int, num2 : int = 20)->int:\n",
    "    return num1 + num2\n",
    "\n",
    "add(2)"
   ]
  },
  {
   "cell_type": "markdown",
   "metadata": {},
   "source": [
    "Lambda function"
   ]
  },
  {
   "cell_type": "code",
   "execution_count": 8,
   "metadata": {},
   "outputs": [
    {
     "name": "stdout",
     "output_type": "stream",
     "text": [
      "4\n",
      "12\n",
      "30\n",
      "5\n"
     ]
    }
   ],
   "source": [
    "def double(x):\n",
    "     return x * 2\n",
    "\n",
    "print(double(2))\n",
    "\n",
    "triple =  lambda y: y * 3\n",
    "print(triple(4))\n",
    "\n",
    "multiply = lambda x, y: x * y\n",
    "print(multiply(5, 6))\n",
    "\n",
    "add = lambda num1, num2 : num1 + num2\n",
    "print(add(2,3))"
   ]
  },
  {
   "cell_type": "markdown",
   "metadata": {},
   "source": [
    "Lambda with typing"
   ]
  },
  {
   "cell_type": "code",
   "execution_count": null,
   "metadata": {},
   "outputs": [],
   "source": [
    "from typing import Callable\n",
    "\n",
    "add : Callable[[int, int] , int] = lambda num1, num2 : num1 + num2\n",
    "\n",
    "add(2,3)"
   ]
  },
  {
   "cell_type": "markdown",
   "metadata": {},
   "source": [
    "Map Function and Lambda"
   ]
  },
  {
   "cell_type": "code",
   "execution_count": 27,
   "metadata": {},
   "outputs": [
    {
     "name": "stdout",
     "output_type": "stream",
     "text": [
      "[2, 4, 6, 8, 10, 12, 14, 16, 18]\n"
     ]
    }
   ],
   "source": [
    "data : list[int] = [1,2,3,4,5,6,7,8,9]\n",
    "\n",
    "data = list(map(lambda x:x*2 , data))\n",
    "\n",
    "print(data)"
   ]
  },
  {
   "cell_type": "markdown",
   "metadata": {},
   "source": [
    "Map Function With Iterables"
   ]
  },
  {
   "cell_type": "code",
   "execution_count": 28,
   "metadata": {},
   "outputs": [
    {
     "name": "stdout",
     "output_type": "stream",
     "text": [
      "[('shirt', 28000), ('pants', 56000), ('hat', 84000)]\n",
      "[('shirt', 28000), ('pants', 56000), ('hat', 84000)]\n"
     ]
    }
   ],
   "source": [
    "store: list[tuple[str, int]] = [(\"shirt\", 100), (\"pants\", 200), (\"hat\", 300)]\n",
    "\n",
    "to_pkr = lambda x: (x[0], x[1] * 280)\n",
    "\n",
    "store_pkr = list(map(to_pkr, store))\n",
    "print(store_pkr)\n",
    "\n",
    "# OR\n",
    "store_pkr = list(map(lambda x: (x[0], x[1] * 280), store))\n",
    "print(store_pkr)"
   ]
  },
  {
   "cell_type": "markdown",
   "metadata": {},
   "source": [
    "Filter Function and Lambda"
   ]
  },
  {
   "cell_type": "code",
   "execution_count": 2,
   "metadata": {},
   "outputs": [
    {
     "name": "stdout",
     "output_type": "stream",
     "text": [
      "[2, 4, 6, 8]\n"
     ]
    }
   ],
   "source": [
    "\n",
    "data : list[int] = [1,2,3,4,5,6,7,8,9]\n",
    "\n",
    "data = list(filter(lambda x:x%2 == 0, data))\n",
    "\n",
    "print(data)"
   ]
  },
  {
   "cell_type": "markdown",
   "metadata": {},
   "source": [
    "Filter Function With Iterables"
   ]
  },
  {
   "cell_type": "code",
   "execution_count": 29,
   "metadata": {},
   "outputs": [
    {
     "name": "stdout",
     "output_type": "stream",
     "text": [
      "[('aamir', 18), ('ali', 20)]\n"
     ]
    }
   ],
   "source": [
    "people: list[tuple[str, int]] = [(\"ammar\", 15), (\"aamir\", 18), (\"ali\", 20)]\n",
    "\n",
    "age = lambda x:x[1] >=18\n",
    "\n",
    "can_vote = list(filter(age, people))\n",
    "print(can_vote)"
   ]
  },
  {
   "cell_type": "markdown",
   "metadata": {},
   "source": [
    "Reducer Function and Lambda"
   ]
  },
  {
   "cell_type": "code",
   "execution_count": 33,
   "metadata": {},
   "outputs": [
    {
     "name": "stdout",
     "output_type": "stream",
     "text": [
      "120\n"
     ]
    }
   ],
   "source": [
    "import functools\n",
    "\n",
    "factorial: list[int] = [5,4,3,2,1]\n",
    "results = functools.reduce(lambda x, y: x*y, factorial)\n",
    "print(results)"
   ]
  },
  {
   "cell_type": "markdown",
   "metadata": {},
   "source": [
    "Generator Function"
   ]
  },
  {
   "cell_type": "code",
   "execution_count": 31,
   "metadata": {},
   "outputs": [
    {
     "name": "stdout",
     "output_type": "stream",
     "text": [
      "<class 'generator'>\n",
      "1\n",
      "2\n",
      "nice\n",
      "3\n"
     ]
    }
   ],
   "source": [
    "def gen(start, end, step = 1):\n",
    "    for i in range(start, end+1, step):\n",
    "        yield i# means its a generator function\n",
    "\n",
    "a = gen(1, 10)\n",
    "print(type(a))\n",
    "print(next(a))\n",
    "print(next(a))\n",
    "print(\"nice\")\n",
    "print(next(a))"
   ]
  },
  {
   "cell_type": "markdown",
   "metadata": {},
   "source": [
    "Generator function with typing"
   ]
  },
  {
   "cell_type": "code",
   "execution_count": null,
   "metadata": {},
   "outputs": [
    {
     "name": "stdout",
     "output_type": "stream",
     "text": [
      "<class 'generator'>\n",
      "1\n",
      "2\n",
      "nice\n",
      "3\n",
      "4\n",
      "5\n",
      "6\n",
      "7\n",
      "8\n",
      "9\n",
      "10\n"
     ]
    }
   ],
   "source": [
    "from collections.abc import Iterator\n",
    "\n",
    "def gen(start: int, end: int, step: int = 1)->Iterator[int]:\n",
    "    for i in range(start, end+1, step):\n",
    "        yield i# means its a generator function\n",
    "\n",
    "iterator_variable : Iterator[int] = gen(1, 10)\n",
    "print(type(iterator_variable))\n",
    "print(next(iterator_variable))\n",
    "print(next(iterator_variable))\n",
    "print(\"nice\")\n",
    "print(next(iterator_variable))\n",
    "\n",
    "for i in iterator_variable:\n",
    "    print(i)"
   ]
  },
  {
   "cell_type": "markdown",
   "metadata": {},
   "source": [
    "Filter function explained with generator next function"
   ]
  },
  {
   "cell_type": "code",
   "execution_count": null,
   "metadata": {},
   "outputs": [
    {
     "name": "stdout",
     "output_type": "stream",
     "text": [
      "2\n",
      "4\n"
     ]
    }
   ],
   "source": [
    "from collections.abc import Iterator\n",
    "\n",
    "data : Iterator[int] = filter(lambda x:x%2==0 ,range(1,101)) #data:list[int] error\n",
    "\n",
    "print(next(data))\n",
    "print(next(data))"
   ]
  },
  {
   "cell_type": "markdown",
   "metadata": {},
   "source": [
    "Pass unlimited parameters in a function"
   ]
  },
  {
   "cell_type": "code",
   "execution_count": null,
   "metadata": {},
   "outputs": [
    {
     "name": "stdout",
     "output_type": "stream",
     "text": [
      "(1, 2, 3) <class 'tuple'>\n"
     ]
    },
    {
     "data": {
      "text/plain": [
       "6"
      ]
     },
     "execution_count": 27,
     "metadata": {},
     "output_type": "execute_result"
    }
   ],
   "source": [
    "def func(*nums):\n",
    "    print(nums, type(nums))\n",
    "    total = 0\n",
    "    for n in nums:\n",
    "        total += n\n",
    "    \n",
    "    return total\n",
    "\n",
    "func(1,2,3)"
   ]
  },
  {
   "cell_type": "markdown",
   "metadata": {},
   "source": [
    "unlimited parameters with typing"
   ]
  },
  {
   "cell_type": "code",
   "execution_count": null,
   "metadata": {},
   "outputs": [
    {
     "name": "stdout",
     "output_type": "stream",
     "text": [
      "(1, 2, 3) <class 'tuple'>\n"
     ]
    },
    {
     "data": {
      "text/plain": [
       "6"
      ]
     },
     "execution_count": 26,
     "metadata": {},
     "output_type": "execute_result"
    }
   ],
   "source": [
    "def func(*nums : int)->int:\n",
    "    print(nums, type(nums))\n",
    "    total : int = 0\n",
    "    for n in nums:\n",
    "        total += n\n",
    "    \n",
    "    return total\n",
    "\n",
    "func(1,2,3)"
   ]
  },
  {
   "cell_type": "markdown",
   "metadata": {},
   "source": [
    "Pass unlimited key arguments"
   ]
  },
  {
   "cell_type": "code",
   "execution_count": null,
   "metadata": {},
   "outputs": [
    {
     "name": "stdout",
     "output_type": "stream",
     "text": [
      "<class 'dict'>\n",
      "{'a': 1, 'b': 2, 'v': 4, 'd': 'Ammar'}\n"
     ]
    }
   ],
   "source": [
    "def func(**kargs):\n",
    "    print(type(kargs))\n",
    "    print(kargs)\n",
    "\n",
    "func(a=1, b=2, v=4, d=\"Ammar\")"
   ]
  },
  {
   "cell_type": "markdown",
   "metadata": {},
   "source": [
    "Key arguments with typing"
   ]
  },
  {
   "cell_type": "code",
   "execution_count": null,
   "metadata": {},
   "outputs": [
    {
     "name": "stdout",
     "output_type": "stream",
     "text": [
      "<class 'dict'>\n",
      "{'a': 1, 'b': 2, 'v': '4', 'd': 'Ammar'}\n"
     ]
    }
   ],
   "source": [
    "from typing import Union\n",
    "\n",
    "both =  Union[str, int]\n",
    "\n",
    "def func(**kargs : both) -> None:\n",
    "    print(type(kargs))\n",
    "    print(kargs)\n",
    "\n",
    "func(a=1, b=2, v=\"4\", d=\"Ammar\")"
   ]
  },
  {
   "cell_type": "markdown",
   "metadata": {},
   "source": [
    "Using everything together"
   ]
  },
  {
   "cell_type": "code",
   "execution_count": 1,
   "metadata": {},
   "outputs": [
    {
     "name": "stdout",
     "output_type": "stream",
     "text": [
      "a: 1\n",
      "b: 2\n",
      "(3, 4, 5, 6)\n",
      "{'c': 7, 'd': 8, 'e': 9}\n"
     ]
    }
   ],
   "source": [
    "def func(a, b, *pram, **kargs):\n",
    "    print(\"a:\", a)\n",
    "    print(\"b:\", b)\n",
    "    print(pram)\n",
    "    print(kargs)\n",
    "\n",
    "func(1,2, 3,4,5,6, c=7, d=8, e=9)"
   ]
  },
  {
   "cell_type": "markdown",
   "metadata": {},
   "source": [
    "Using everything together with typing"
   ]
  },
  {
   "cell_type": "code",
   "execution_count": null,
   "metadata": {},
   "outputs": [
    {
     "name": "stdout",
     "output_type": "stream",
     "text": [
      "a: 1\n",
      "b: 2\n",
      "(3, 4, 5, 6)\n",
      "{'c': 7, 'd': 8, 'e': 9}\n"
     ]
    }
   ],
   "source": [
    "def func(a:int, b:int, *pram:int, **kargs:int) -> None:\n",
    "    print(\"a:\", a)\n",
    "    print(\"b:\", b)\n",
    "    print(pram)\n",
    "    print(kargs)\n",
    "\n",
    "func(1,2, 3,4,5,6, c=7,d=8,e=9)"
   ]
  },
  {
   "cell_type": "markdown",
   "metadata": {},
   "source": [
    "Decorator Function"
   ]
  },
  {
   "cell_type": "code",
   "execution_count": null,
   "metadata": {},
   "outputs": [
    {
     "name": "stdout",
     "output_type": "stream",
     "text": [
      "Something is happening before the function is called.\n",
      "Hello!\n",
      "Something is happening after the function is called.\n"
     ]
    }
   ],
   "source": [
    "def my_decorator(func):\n",
    "    def wrapper():\n",
    "        print(\"Something is happening before the function is called.\")\n",
    "        func()\n",
    "        print(\"Something is happening after the function is called.\")\n",
    "    return wrapper\n",
    "\n",
    "@my_decorator\n",
    "def say_hello():\n",
    "    print(\"Hello!\")\n",
    "\n",
    "say_hello()"
   ]
  },
  {
   "cell_type": "markdown",
   "metadata": {},
   "source": [
    "decorator Function with typing"
   ]
  },
  {
   "cell_type": "code",
   "execution_count": null,
   "metadata": {},
   "outputs": [
    {
     "name": "stdout",
     "output_type": "stream",
     "text": [
      "1\n",
      "hello\n",
      "2\n"
     ]
    }
   ],
   "source": [
    "from typing import Callable\n",
    "\n",
    "def dec(func : Callable[[], None]) -> Callable[[], None]:\n",
    "    def wrapper():\n",
    "        print(\"1\")\n",
    "        func()\n",
    "        print(\"2\")\n",
    "    return wrapper\n",
    "\n",
    "@dec\n",
    "def new_func():\n",
    "    print(\"hello\")\n",
    "\n",
    "new_func()"
   ]
  },
  {
   "cell_type": "markdown",
   "metadata": {},
   "source": [
    "Decorator Function with int"
   ]
  },
  {
   "cell_type": "code",
   "execution_count": null,
   "metadata": {},
   "outputs": [
    {
     "name": "stdout",
     "output_type": "stream",
     "text": [
      "1\n",
      "100\n",
      "2\n"
     ]
    }
   ],
   "source": [
    "from typing import Callable\n",
    "\n",
    "def dec(func : Callable[[int], None]) -> Callable[[int], None]:\n",
    "    def wrapper(num1 : int) -> None:\n",
    "        print(\"1\")\n",
    "        func(num1)\n",
    "        print(\"2\")\n",
    "    return wrapper\n",
    "\n",
    "@dec\n",
    "def new_func(num1 : int) -> None:\n",
    "    print(num1)\n",
    "\n",
    "new_func(100)"
   ]
  },
  {
   "cell_type": "markdown",
   "metadata": {},
   "source": [
    "Reccursive Functions"
   ]
  },
  {
   "cell_type": "code",
   "execution_count": null,
   "metadata": {},
   "outputs": [
    {
     "name": "stdout",
     "output_type": "stream",
     "text": [
      "factorial of 5 is 120\n"
     ]
    }
   ],
   "source": [
    "def factorial(x : int) -> int:\n",
    "    if x == 1:\n",
    "        return 1\n",
    "    else:\n",
    "        return (x * factorial(x-1))\n",
    "    \n",
    "num = 5\n",
    "print(f\"factorial of {num} is {factorial(num)}\")"
   ]
  },
  {
   "cell_type": "markdown",
   "metadata": {},
   "source": [
    "Imutable"
   ]
  },
  {
   "cell_type": "code",
   "execution_count": null,
   "metadata": {},
   "outputs": [
    {
     "name": "stdout",
     "output_type": "stream",
     "text": [
      "6 140735606573656\n",
      "num1 = 6, id= 140735606573656\n",
      "num1 = 7, id= 140735606573688\n",
      "6 140735606573656\n"
     ]
    }
   ],
   "source": [
    "a : int = 6\n",
    "print(a, id(a))\n",
    "\n",
    "def func(num1 : int) -> None:\n",
    "    print(f\"num1 = {num1}, id= {id(num1)}\")\n",
    "    num1 += 1 # Local Copy\n",
    "    print(f\"num1 = {num1}, id= {id(num1)}\")\n",
    "\n",
    "func(a) #Pass by value imutable\n",
    "\n",
    "print(a, id(a))"
   ]
  },
  {
   "cell_type": "markdown",
   "metadata": {},
   "source": [
    "Mutable"
   ]
  },
  {
   "cell_type": "code",
   "execution_count": null,
   "metadata": {},
   "outputs": [
    {
     "name": "stdout",
     "output_type": "stream",
     "text": [
      "[1, 2, 3, 4] 1810774817408\n",
      "num1 before appending = [1, 2, 3, 4], id = 1810774817408\n",
      "num1 aftr appending = [1, 2, 3, 4, 200], id = 1810774817408\n",
      "[1, 2, 3, 4, 200] 1810774817408\n"
     ]
    }
   ],
   "source": [
    "a : list[int] = [1,2,3,4]\n",
    "print(a, id(a))\n",
    "def func(num1 : list[int]) -> None:\n",
    "    print(f\"num1 before appending = {num1}, id = {id(num1)}\")\n",
    "    num1.append(200) # Changes Globally\n",
    "    print(f\"num1 aftr appending = {num1}, id = {id(num1)}\")\n",
    "\n",
    "func(a)\n",
    "\n",
    "print(a, id(a))"
   ]
  },
  {
   "cell_type": "markdown",
   "metadata": {},
   "source": [
    "Imutable List"
   ]
  },
  {
   "cell_type": "code",
   "execution_count": null,
   "metadata": {},
   "outputs": [
    {
     "name": "stdout",
     "output_type": "stream",
     "text": [
      "[1, 2, 3, 4] 1515937473856\n",
      "num1 before appending = [1, 2, 3, 4], 1515937473856\n",
      "num1 aftr appending = [2, 200], 1515938040064\n",
      "[1, 2, 3, 4] 1515937473856\n"
     ]
    }
   ],
   "source": [
    "a : list[int] = [1,2,3,4]\n",
    "print(a, id(a))\n",
    "def func(num1 : list[int]) -> None:\n",
    "    print(f\"num1 before appending = {num1}, {id(num1)}\")\n",
    "    num1 = [2]\n",
    "    num1.append(200) # Changes Locally\n",
    "    print(f\"num1 aftr appending = {num1}, {id(num1)}\")\n",
    "\n",
    "func(a)\n",
    "\n",
    "print(a, id(a))"
   ]
  },
  {
   "cell_type": "markdown",
   "metadata": {},
   "source": [
    "Error"
   ]
  },
  {
   "cell_type": "code",
   "execution_count": null,
   "metadata": {},
   "outputs": [
    {
     "name": "stdout",
     "output_type": "stream",
     "text": [
      "1\n",
      "2\n",
      "3\n"
     ]
    },
    {
     "ename": "ZeroDivisionError",
     "evalue": "division by zero",
     "output_type": "error",
     "traceback": [
      "\u001b[1;31m---------------------------------------------------------------------------\u001b[0m",
      "\u001b[1;31mZeroDivisionError\u001b[0m                         Traceback (most recent call last)",
      "\u001b[1;32mc:\\Users\\Apoc\\Downloads\\Python\\classes.ipynb Cell 150\u001b[0m line \u001b[0;36m4\n\u001b[0;32m      <a href='vscode-notebook-cell:/c%3A/Users/Apoc/Downloads/Python/classes.ipynb#Y304sZmlsZQ%3D%3D?line=1'>2</a>\u001b[0m \u001b[39mprint\u001b[39m(\u001b[39m2\u001b[39m)\n\u001b[0;32m      <a href='vscode-notebook-cell:/c%3A/Users/Apoc/Downloads/Python/classes.ipynb#Y304sZmlsZQ%3D%3D?line=2'>3</a>\u001b[0m \u001b[39mprint\u001b[39m(\u001b[39m3\u001b[39m)\n\u001b[1;32m----> <a href='vscode-notebook-cell:/c%3A/Users/Apoc/Downloads/Python/classes.ipynb#Y304sZmlsZQ%3D%3D?line=3'>4</a>\u001b[0m \u001b[39mprint\u001b[39m(\u001b[39m2\u001b[39;49m\u001b[39m/\u001b[39;49m\u001b[39m0\u001b[39;49m)\n\u001b[0;32m      <a href='vscode-notebook-cell:/c%3A/Users/Apoc/Downloads/Python/classes.ipynb#Y304sZmlsZQ%3D%3D?line=4'>5</a>\u001b[0m \u001b[39mprint\u001b[39m(\u001b[39m5\u001b[39m)\n\u001b[0;32m      <a href='vscode-notebook-cell:/c%3A/Users/Apoc/Downloads/Python/classes.ipynb#Y304sZmlsZQ%3D%3D?line=5'>6</a>\u001b[0m \u001b[39mprint\u001b[39m(\u001b[39m6\u001b[39m)\n",
      "\u001b[1;31mZeroDivisionError\u001b[0m: division by zero"
     ]
    }
   ],
   "source": [
    "print(1)\n",
    "print(2)\n",
    "print(3)\n",
    "print(2/0)\n",
    "print(5)\n",
    "print(6)"
   ]
  },
  {
   "cell_type": "markdown",
   "metadata": {},
   "source": [
    "Handling Run Time Errors"
   ]
  },
  {
   "cell_type": "code",
   "execution_count": null,
   "metadata": {},
   "outputs": [
    {
     "name": "stdout",
     "output_type": "stream",
     "text": [
      "There is an error\n"
     ]
    }
   ],
   "source": [
    "try:\n",
    "    print(7/0)\n",
    "except (ZeroDivisionError):\n",
    "    print(\"There is an error\")"
   ]
  },
  {
   "cell_type": "markdown",
   "metadata": {},
   "source": [
    "Handlng Run Time Errors with Examples"
   ]
  },
  {
   "cell_type": "code",
   "execution_count": null,
   "metadata": {},
   "outputs": [
    {
     "name": "stdout",
     "output_type": "stream",
     "text": [
      "1\n",
      "2\n",
      "3\n",
      "Zero Devision Error\n",
      "5\n",
      "6\n"
     ]
    }
   ],
   "source": [
    "print(1)\n",
    "print(2)\n",
    "print(3)\n",
    "try:\n",
    "    print(2/0)\n",
    "    print(4)\n",
    "except (ZeroDivisionError):\n",
    "    print(\"Zero Devision Error\")\n",
    "print(5)\n",
    "print(6)"
   ]
  },
  {
   "cell_type": "markdown",
   "metadata": {},
   "source": [
    "Handling Multiple Errors ar once"
   ]
  },
  {
   "cell_type": "code",
   "execution_count": 7,
   "metadata": {},
   "outputs": [
    {
     "name": "stdout",
     "output_type": "stream",
     "text": [
      "1\n",
      "2\n",
      "3\n",
      "Zero Devision Error\n",
      "5\n",
      "6\n"
     ]
    }
   ],
   "source": [
    "li : list[str] = [\"ammar\"]\n",
    "print(1)\n",
    "print(2)\n",
    "print(3)\n",
    "\n",
    "try:\n",
    "    print(2/0)\n",
    "    print(li[1])\n",
    "    print(var)\n",
    "    open(\"aa.txt\")\n",
    "except (ZeroDivisionError):\n",
    "    print(\"Zero Devision Error\")\n",
    "except (IndexError):\n",
    "    print(\"Index Error\")\n",
    "except (NameError):\n",
    "    print(\"Name Error\")\n",
    "except:\n",
    "    print(\"Something is wrong\")\n",
    "\n",
    "print(5)\n",
    "print(6)"
   ]
  },
  {
   "cell_type": "markdown",
   "metadata": {},
   "source": [
    "Handling Dynamic Errors"
   ]
  },
  {
   "cell_type": "code",
   "execution_count": null,
   "metadata": {},
   "outputs": [
    {
     "name": "stdout",
     "output_type": "stream",
     "text": [
      "Something is wrong\n",
      "name 'xyx' is not defined\n"
     ]
    }
   ],
   "source": [
    "try:\n",
    "    print(xyx)\n",
    "except Exception as error:\n",
    "    print(f\"Something is wrong\\n{error}\")"
   ]
  },
  {
   "cell_type": "markdown",
   "metadata": {},
   "source": [
    "Scope in python"
   ]
  },
  {
   "cell_type": "code",
   "execution_count": null,
   "metadata": {},
   "outputs": [
    {
     "name": "stdout",
     "output_type": "stream",
     "text": [
      "enemies inside function: 2\n",
      "enemies outside function: 1\n"
     ]
    },
    {
     "ename": "NameError",
     "evalue": "name 'friends' is not defined",
     "output_type": "error",
     "traceback": [
      "\u001b[1;31m---------------------------------------------------------------------------\u001b[0m\n",
      "\u001b[1;31mNameError\u001b[0m                                 Traceback (most recent call last)\n",
      "Cell \u001b[1;32mIn[43], line 10\u001b[0m\n",
      "\u001b[0;32m      8\u001b[0m increase_enemies()\n",
      "\u001b[0;32m      9\u001b[0m \u001b[38;5;28mprint\u001b[39m(\u001b[38;5;124mf\u001b[39m\u001b[38;5;124m\"\u001b[39m\u001b[38;5;124menemies outside function: \u001b[39m\u001b[38;5;132;01m{\u001b[39;00menemies\u001b[38;5;132;01m}\u001b[39;00m\u001b[38;5;124m\"\u001b[39m)\n",
      "\u001b[1;32m---> 10\u001b[0m \u001b[38;5;28mprint\u001b[39m(\u001b[43mfriends\u001b[49m)\n",
      "\n",
      "\u001b[1;31mNameError\u001b[0m: name 'friends' is not defined"
     ]
    }
   ],
   "source": [
    "enemies = 1\n",
    "\n",
    "def increase_enemies():\n",
    "  enemies = 2\n",
    "  friends = 3\n",
    "  print(f\"enemies inside function: {enemies}\")\n",
    "\n",
    "increase_enemies()\n",
    "print(f\"enemies outside function: {enemies}\")\n",
    "print(friends)"
   ]
  },
  {
   "cell_type": "markdown",
   "metadata": {},
   "source": [
    "Global Scope"
   ]
  },
  {
   "cell_type": "code",
   "execution_count": null,
   "metadata": {},
   "outputs": [
    {
     "name": "stdout",
     "output_type": "stream",
     "text": [
      "The number is less than 100\n",
      "str\n"
     ]
    }
   ],
   "source": [
    "number: int = 10\n",
    "\n",
    "if number < 100:\n",
    "    print(\"The number is less than 100\")\n",
    "    enemy: str = \"str\"\n",
    "\n",
    "print(enemy)"
   ]
  },
  {
   "cell_type": "markdown",
   "metadata": {},
   "source": [
    "There is no Block Scope"
   ]
  },
  {
   "cell_type": "code",
   "execution_count": null,
   "metadata": {},
   "outputs": [
    {
     "name": "stdout",
     "output_type": "stream",
     "text": [
      "Skeleton\n"
     ]
    },
    {
     "ename": "NameError",
     "evalue": "name 'new_enemy' is not defined",
     "output_type": "error",
     "traceback": [
      "\u001b[1;31m---------------------------------------------------------------------------\u001b[0m\n",
      "\u001b[1;31mNameError\u001b[0m                                 Traceback (most recent call last)\n",
      "Cell \u001b[1;32mIn[5], line 11\u001b[0m\n",
      "\u001b[0;32m      8\u001b[0m     \u001b[38;5;28mprint\u001b[39m(new_enemy)\n",
      "\u001b[0;32m     10\u001b[0m create_enemy()\n",
      "\u001b[1;32m---> 11\u001b[0m \u001b[38;5;28mprint\u001b[39m(\u001b[43mnew_enemy\u001b[49m)\n",
      "\n",
      "\u001b[1;31mNameError\u001b[0m: name 'new_enemy' is not defined"
     ]
    }
   ],
   "source": [
    "game_level = 3\n",
    "\n",
    "def create_enemy():\n",
    "    enemies = [\"Skeleton\", \"Zombie\", \"Alien\"]\n",
    "    if game_level < 5:\n",
    "        new_enemy = enemies[0]\n",
    "\n",
    "    print(new_enemy)\n",
    "\n",
    "create_enemy()\n",
    "print(new_enemy)"
   ]
  },
  {
   "cell_type": "markdown",
   "metadata": {},
   "source": [
    "Modifying Global Scope"
   ]
  },
  {
   "cell_type": "code",
   "execution_count": null,
   "metadata": {},
   "outputs": [
    {
     "name": "stdout",
     "output_type": "stream",
     "text": [
      "enemies inside function: 1\n",
      "enemies outside function: 2\n"
     ]
    }
   ],
   "source": [
    "enemies = 1\n",
    "\n",
    "def increase_enemies():\n",
    "    print(f\"enemies inside function: {enemies}\")\n",
    "    return enemies + 1\n",
    "\n",
    "enemies = increase_enemies()\n",
    "print(f\"enemies outside function: {enemies}\")"
   ]
  },
  {
   "cell_type": "markdown",
   "metadata": {},
   "source": [
    "Global Constants"
   ]
  },
  {
   "cell_type": "code",
   "execution_count": null,
   "metadata": {},
   "outputs": [],
   "source": [
    "PI = 3.14159\n",
    "URL = \"https://www.google.com\"\n",
    "TWITTER_HANDLE = \"@ammar_aamir786\""
   ]
  },
  {
   "cell_type": "markdown",
   "metadata": {},
   "source": [
    "Debugging"
   ]
  },
  {
   "cell_type": "code",
   "execution_count": null,
   "metadata": {},
   "outputs": [],
   "source": [
    "#########################################################\n",
    "\n",
    "# Describe Problem\n",
    "def my_function():\n",
    "  for i in range(1, 20):\n",
    "    if i == 20:\n",
    "      print(\"You got it\")\n",
    "      \n",
    "my_function()\n",
    "\n",
    "#########################################################\n",
    "# from random import randint\n",
    "# dice_imgs = [\"❶\", \"❷\", \"❸\", \"❹\", \"❺\", \"❻\"]\n",
    "# dice_num = randint(1, 6)\n",
    "# print(dice_imgs[dice_num])\n",
    "\n",
    "#########################################################\n",
    "# year = int(input(\"What's your year of birth?\"))\n",
    "# if year > 1980 and year < 1994:\n",
    "#   print(\"You are a millenial.\")\n",
    "# elif year > 1994:\n",
    "#   print(\"You are a Gen Z.\")\n",
    "\n",
    "#########################################################\n",
    "# age = input(\"How old are you?\")\n",
    "# if age > 18:\n",
    "# print(\"You can drive at age {age}.\")\n",
    "\n",
    "#########################################################\n",
    "# pages = 0\n",
    "# word_per_page = 0\n",
    "# pages = int(input(\"Number of pages: \"))\n",
    "# word_per_page == int(input(\"Number of words per page: \"))\n",
    "# total_words = pages * word_per_page\n",
    "# print(total_words)\n",
    "\n",
    "#########################################################\n",
    "# def mutate(a_list):\n",
    "#   b_list = []\n",
    "#   for item in a_list:\n",
    "#     new_item = item * 2\n",
    "#   b_list.append(new_item)\n",
    "#   print(b_list)\n",
    "\n",
    "# mutate([1,2,3,5,8,13])"
   ]
  },
  {
   "cell_type": "markdown",
   "metadata": {},
   "source": [
    "OOP (Object Oriented Programing)"
   ]
  },
  {
   "cell_type": "code",
   "execution_count": 21,
   "metadata": {},
   "outputs": [
    {
     "name": "stdout",
     "output_type": "stream",
     "text": [
      "ammar\n",
      "physics\n",
      "10th\n",
      "the ammar speaks urdu\n",
      "None\n",
      "\n",
      "aamir\n",
      "chem\n",
      "11th\n",
      "the aamir speaks eng\n",
      "None\n"
     ]
    }
   ],
   "source": [
    "class Teacher:\n",
    "    # (constructor)\n",
    "    def __init__(self, name, subject, grade):\n",
    "        self.name = name\n",
    "        self.subject = subject\n",
    "        self.grade =  grade\n",
    "\n",
    "    # method\n",
    "    def speak(self, language):\n",
    "        print(f'the {self.name} speaks {language}')\n",
    "\n",
    "# # Creating an object of the class\n",
    "teacher1 = Teacher(\"ammar\", \"physics\", \"10th\")\n",
    "# teacher1 is an object (or instance) of that class.\n",
    "\n",
    "print(teacher1.name) # property/attribute\n",
    "print(teacher1.subject) # property/attribute\n",
    "print(teacher1.grade) # property/attribute\n",
    "\n",
    "# Accessing method\n",
    "print(teacher1.speak(\"urdu\")) # the ammar speaks urdu\n",
    "\n",
    "print()\n",
    "\n",
    "# Creating a new object of the same class\n",
    "teacher2 = Teacher(\"aamir\", \"chem\", \"11th\")\n",
    "\n",
    "print(teacher2.name) # property/attribute\n",
    "print(teacher2.subject) # property/attribute\n",
    "print(teacher2.grade) # property/attribute\n",
    "\n",
    "# Accessing method\n",
    "print(teacher2.speak(\"eng\")) # the aamir speaks eng\n",
    "# teacher2 is an object (or instance) of that class."
   ]
  },
  {
   "cell_type": "markdown",
   "metadata": {},
   "source": [
    "OOP With Typing"
   ]
  },
  {
   "cell_type": "code",
   "execution_count": 18,
   "metadata": {},
   "outputs": [
    {
     "name": "stdout",
     "output_type": "stream",
     "text": [
      "Ammar\n",
      "Aamir\n",
      "bba\n",
      "Ammar is teaching Eng\n",
      "Aamir is speaking nice\n"
     ]
    }
   ],
   "source": [
    "class Teacher():\n",
    "    def __init__(self, name : str, age : int) -> None: #constructor, self can be any word\n",
    "      self.name : str = name #instance variable\n",
    "      self.age : int = age\n",
    "      self.department : str = \"bba\"\n",
    "\n",
    "    def speak(self, words : str) -> None:\n",
    "       print(f\"{self.name} is speaking {words}\")\n",
    "\n",
    "    def teaching(self, subject : str) -> None:\n",
    "       print(f\"{self.name} is teaching {subject}\")\n",
    "\n",
    "\n",
    "obj1 : Teacher = Teacher(\"Ammar\", 23) #initializing objext = calling constructor\n",
    "obj2 : Teacher = Teacher(\"Aamir\", 53) #object becomes instance of class teacher\n",
    "\n",
    "print(obj1.name) #attributes\n",
    "print(obj2.name)\n",
    "print(obj1.department)\n",
    "\n",
    "obj1.teaching(\"Eng\") #methods\n",
    "obj2.speak(\"nice\")"
   ]
  },
  {
   "cell_type": "markdown",
   "metadata": {},
   "source": [
    "Class/Static Variable"
   ]
  },
  {
   "cell_type": "code",
   "execution_count": null,
   "metadata": {},
   "outputs": [
    {
     "name": "stdout",
     "output_type": "stream",
     "text": [
      "0\n"
     ]
    }
   ],
   "source": [
    "class Teacher():\n",
    "    counter : int = 0 # class variable\n",
    "\n",
    "    def __init__(self, name : str, age : int) -> None:\n",
    "      self.name : str = name # instance variables\n",
    "      self.age : int = age\n",
    "      self.department : str = \"bba\"\n",
    "      Teacher.counter += 1\n",
    "\n",
    "    def speak(self, words : str) -> None:\n",
    "       print(f\"{self.name} is speaking {words}\")\n",
    "\n",
    "    def teaching(self, subject : str) -> None:\n",
    "       print(f\"{self.name} is teaching {subject}\")\n",
    "\n",
    "\n",
    "obj1 : Teacher = Teacher(\"Ammar\", 23) \n",
    "obj2 : Teacher = Teacher(\"Aamir\", 53) \n",
    "obj3 : Teacher = Teacher(\"ali\", 73)\n",
    "\n",
    "print(Teacher.counter) # class variable\n",
    "print(obj1.counter)"
   ]
  },
  {
   "cell_type": "markdown",
   "metadata": {},
   "source": [
    "Static Method"
   ]
  },
  {
   "cell_type": "code",
   "execution_count": null,
   "metadata": {},
   "outputs": [
    {
     "name": "stdout",
     "output_type": "stream",
     "text": [
      "0\n",
      "5\n"
     ]
    }
   ],
   "source": [
    "class Teacher():\n",
    "    counter : int = 0 # class variable\n",
    "\n",
    "    def __init__(self, name : str, age : int) -> None:\n",
    "      self.name : str = name # instance variables\n",
    "      self.age : int = age\n",
    "      self.department : str = \"bba\"\n",
    "      Teacher.counter += 1\n",
    "\n",
    "    def speak(self, words : str) -> None:\n",
    "       print(f\"{self.name} is speaking {words}\")\n",
    "\n",
    "    def teaching(self, subject : str) -> None:\n",
    "       print(f\"{self.name} is teaching {subject}\")\n",
    "\n",
    "    # It’s just a regular function inside a class — grouped logically but doesn't operate on the class/object directly.\n",
    "    @staticmethod\n",
    "    def add(a, b):\n",
    "        return a + b\n",
    "\n",
    "# obj1 : Teacher = Teacher(\"Ammar\", 23) \n",
    "# obj2 : Teacher = Teacher(\"Aamir\", 53) \n",
    "# obj3 : Teacher = Teacher(\"ali\", 73)\n",
    "\n",
    "print(Teacher.counter) # class variable\n",
    "# print(obj1.counter)\n",
    "\n",
    "# print(obj1.add(2,3)) # 5\n",
    "# print(obj2.add(3,4)) # 7\n",
    "# print(obj3.add(4,5)) # 9\n",
    "print(Teacher.add(2,3)) # 5 # class method"
   ]
  },
  {
   "cell_type": "markdown",
   "metadata": {},
   "source": [
    "1- Encapsulation"
   ]
  },
  {
   "cell_type": "markdown",
   "metadata": {},
   "source": [
    "Bundling data (attributes) and methods (behavior) into a single unit (a class) while restricting access to some components to protect the object’s internal state (e.g., using private variables)."
   ]
  },
  {
   "cell_type": "code",
   "execution_count": null,
   "metadata": {},
   "outputs": [
    {
     "name": "stdout",
     "output_type": "stream",
     "text": [
      "Alice\n",
      "20\n",
      "Bob\n",
      "21\n",
      "Invalid name\n",
      "Invalid age\n"
     ]
    }
   ],
   "source": [
    "class Student:\n",
    "    def __init__(self, name: str, age: int) -> None:\n",
    "        self.__name: str = name  # Private attribute\n",
    "        self.__age: int = age    # Private attribute\n",
    "\n",
    "    def get_name(self) -> str:\n",
    "        return self.__name\n",
    "\n",
    "    def set_name(self, name: str) -> None:\n",
    "        if isinstance(name, str) and name.strip():\n",
    "            self.__name = name\n",
    "        else:\n",
    "            print(\"Invalid name\")\n",
    "\n",
    "    def get_age(self) -> int:\n",
    "        return self.__age\n",
    "\n",
    "    def set_age(self, age: int) -> None:\n",
    "        if isinstance(age, int) and age > 0:\n",
    "            self.__age = age\n",
    "        else:\n",
    "            print(\"Invalid age\")\n",
    "\n",
    "# Example usage\n",
    "student: Student = Student(\"Alice\", 20)\n",
    "print(student.get_name())  # Output: Alice\n",
    "print(student.get_age())   # Output: 20\n",
    "# print(student.__age) # will not work because our variables are private for this class\n",
    "\n",
    "student.set_name(\"Bob\")\n",
    "student.set_age(21)\n",
    "print(student.get_name())  # Output: Bob\n",
    "print(student.get_age())   # Output: 21\n",
    "\n",
    "# Trying to access private attributes directly will raise an error\n",
    "# print(student.__name)  # AttributeError\n",
    "\n",
    "# Invalid inputs\n",
    "student.set_name(\"\")      # Output: Invalid name\n",
    "student.set_age(-5)       # Output: Invalid age"
   ]
  },
  {
   "cell_type": "markdown",
   "metadata": {},
   "source": [
    "2- Inheritance"
   ]
  },
  {
   "cell_type": "markdown",
   "metadata": {},
   "source": [
    "Allowing a class (subclass) to inherit attributes and methods from another class (parent class) to promote code reuse and establish a hierarchical relationship."
   ]
  },
  {
   "cell_type": "code",
   "execution_count": 75,
   "metadata": {},
   "outputs": [
    {
     "name": "stdout",
     "output_type": "stream",
     "text": [
      "Brown\n",
      "Black\n",
      "parent speak  no\n",
      "\n",
      "Brown\n",
      "Black\n",
      "parent speak  no\n",
      "he is teaching maths\n"
     ]
    }
   ],
   "source": [
    "class Parents():\n",
    "    def __init__(self) -> None:\n",
    "        self.eyecolor : str = \"Brown\"\n",
    "        self.haircolor : str = \"Black\"\n",
    "\n",
    "    def speak(self, words: str)-> None:\n",
    "        print(\"parent speak \",words)\n",
    "\n",
    "\n",
    "class child(Parents):\n",
    "    def teaching(self, subject: str) -> None:\n",
    "        print(f\"he is teaching {subject}\")\n",
    "\n",
    "obj1 : Parents = Parents()\n",
    "print(obj1.eyecolor)\n",
    "print(obj1.haircolor)\n",
    "obj1.speak(\"no\")\n",
    "\n",
    "print()\n",
    "\n",
    "obj2 : child = child()\n",
    "print(obj2.eyecolor)\n",
    "print(obj2.haircolor)\n",
    "obj2.speak(\"no\")\n",
    "obj2.teaching(\"maths\")"
   ]
  },
  {
   "cell_type": "markdown",
   "metadata": {},
   "source": [
    "Super (Inheritance)"
   ]
  },
  {
   "cell_type": "code",
   "execution_count": null,
   "metadata": {},
   "outputs": [
    {
     "name": "stdout",
     "output_type": "stream",
     "text": [
      "Graphic Designer\n",
      "\n"
     ]
    }
   ],
   "source": [
    "class Employee():\n",
    "    def __init__(self, name : str) -> None:\n",
    "        self.name : str = name\n",
    "        self.education : str = \"\"\n",
    "        self.department : str = \"\"\n",
    "\n",
    "class Designer(Employee):\n",
    "        def __init__(self, title : str, name : str) -> None:\n",
    "             super().__init__(name)\n",
    "             self.title : str = title\n",
    "\n",
    "class Developer(Employee):\n",
    "        def __init__(self, title : str, name : str) -> None:\n",
    "             super().__init__(name)\n",
    "             self.title : str = title\n",
    "             self.skills : list[str] = []\n",
    "\n",
    "designer1 : Designer = Designer(\"Graphic Designer\",\"Ammar Aamir\")\n",
    "\n",
    "dev1 : Developer = Developer(\"Python\", \"Ali\")\n",
    "\n",
    "print(designer1.title)\n",
    "\n",
    "print(dev1.department)"
   ]
  },
  {
   "cell_type": "markdown",
   "metadata": {},
   "source": [
    "Multiple Inheritance"
   ]
  },
  {
   "cell_type": "code",
   "execution_count": 79,
   "metadata": {},
   "outputs": [
    {
     "name": "stdout",
     "output_type": "stream",
     "text": [
      "xyz\n",
      "Ammar\n",
      "abc\n",
      "mother speakes urdu\n"
     ]
    }
   ],
   "source": [
    "class Mother:\n",
    "    def __init__(self, mother_name : str):\n",
    "      self.mother_name : str = mother_name\n",
    "      self.eye_color : str = \"black\"\n",
    "\n",
    "    def speak(self, lang: str) -> str:\n",
    "       return f\"mother speakes {lang}\"\n",
    "    \n",
    "class Dad:\n",
    "   def __init__(self, dad_name : str):\n",
    "     self.dad_name : str = dad_name\n",
    "     self.height : str = \"6 ft\"\n",
    "\n",
    "\n",
    "class Child(Mother, Dad):\n",
    "   def __init__(self, mother_name : str, dad_name : str, child_name : str) -> None:\n",
    "      Mother.__init__(self, mother_name)\n",
    "      Dad.__init__(self, dad_name)\n",
    "      self.child_name : str = child_name\n",
    "\n",
    "ammar : Child = Child(\"abc\", \"xyz\", \"Ammar\")\n",
    "\n",
    "print(ammar.child_name)\n",
    "print(ammar.mother_name)\n",
    "print(ammar.speak(\"urdu\"))"
   ]
  },
  {
   "cell_type": "markdown",
   "metadata": {},
   "source": [
    "Method Overloading"
   ]
  },
  {
   "cell_type": "code",
   "execution_count": 7,
   "metadata": {},
   "outputs": [
    {
     "name": "stdout",
     "output_type": "stream",
     "text": [
      "3\n",
      "3.6999999999999997\n",
      "ammar aamir\n"
     ]
    }
   ],
   "source": [
    "from typing import Union, overload\n",
    "\n",
    "class Adder:\n",
    "    @overload\n",
    "    def add(self, a: int, b: int) -> int:\n",
    "        ...\n",
    "\n",
    "    @overload\n",
    "    def add(self, a: float, b: float) -> float:\n",
    "        ...\n",
    "\n",
    "    @overload\n",
    "    def add(self, a: str, b: str) -> str:\n",
    "        ...\n",
    "\n",
    "    def add(self, a: Union[int, float, str], b: Union[int, float, str]) -> Union[int, float, str]:\n",
    "        if isinstance(a, int) and isinstance(b, int):\n",
    "            return a + b\n",
    "        elif isinstance(a, float) and isinstance(b, float):\n",
    "            return a + b\n",
    "        elif isinstance(a, str) and isinstance(b, str):\n",
    "            return a + b\n",
    "        else:\n",
    "            raise TypeError(\"error\")\n",
    "    \n",
    "adder : Adder = Adder()\n",
    "\n",
    "result1 : int = adder.add(1,2)\n",
    "print(result1)\n",
    "\n",
    "result2 : float = adder.add(1.4, 2.3)\n",
    "print(result2)\n",
    "\n",
    "result3 : str = adder.add(\"ammar\", \" aamir\")\n",
    "print(result3)"
   ]
  },
  {
   "cell_type": "markdown",
   "metadata": {},
   "source": [
    "Overriding"
   ]
  },
  {
   "cell_type": "code",
   "execution_count": 8,
   "metadata": {},
   "outputs": [
    {
     "name": "stdout",
     "output_type": "stream",
     "text": [
      "Bird eats worms\n",
      "Animal eats apple\n"
     ]
    }
   ],
   "source": [
    "class Animal():\n",
    "    def eating(self, food : str) -> None:\n",
    "        print(\"Animal eats\", food)\n",
    "\n",
    "class Bird(Animal):\n",
    "    def eating(self, food : str) -> None:\n",
    "        print(\"Bird eats\", food)\n",
    "\n",
    "animal : Animal = Animal()\n",
    "animal.eating(\"apple\") # Output: \"Animal eats apple\"\n",
    "\n",
    "bird : Bird = Bird()\n",
    "bird.eating(\"worms\") # Output: \"Bird eats worms\""
   ]
  },
  {
   "cell_type": "markdown",
   "metadata": {},
   "source": [
    "3- Polymorphism"
   ]
  },
  {
   "cell_type": "markdown",
   "metadata": {},
   "source": [
    "Polymorphism in Python allows different classes to define methods with the same name but different behaviors"
   ]
  },
  {
   "cell_type": "code",
   "execution_count": 9,
   "metadata": {},
   "outputs": [
    {
     "name": "stdout",
     "output_type": "stream",
     "text": [
      "Animal eats apple\n",
      "Bird eats worms\n",
      "Bird eats apple\n"
     ]
    }
   ],
   "source": [
    "class Animal():\n",
    "    def eating(self, food : str) -> None:\n",
    "        print(\"Animal eats\", food)\n",
    "\n",
    "class Bird(Animal):\n",
    "    def eating(self, food : str) -> None:\n",
    "        print(\"Bird eats\", food)\n",
    "\n",
    "animal : Animal = Animal()\n",
    "animal.eating(\"apple\") # Output: \"Animal eats apple\"\n",
    "\n",
    "bird : Bird = Bird()\n",
    "bird.eating(\"worms\") # Output: \"Bird eats worms\"\n",
    "\n",
    "#polymorphism\n",
    "animal : Animal = Bird() # On run time it will decide which object method to run\n",
    "animal.eating(\"apple\") # Output: \"Bird eats apple\""
   ]
  },
  {
   "cell_type": "markdown",
   "metadata": {},
   "source": [
    "4- Abstraction"
   ]
  },
  {
   "cell_type": "markdown",
   "metadata": {},
   "source": [
    "Hiding complex implementation details and exposing only the essential features or interfaces to the user, making it easier to interact with objects without needing to understand their inner workings."
   ]
  },
  {
   "cell_type": "markdown",
   "metadata": {},
   "source": [
    "Abstract Classes"
   ]
  },
  {
   "cell_type": "markdown",
   "metadata": {},
   "source": [
    "An abstract class in Python is a class that cannot be instantiated directly and is designed to serve as a blueprint for other classes. It typically defines methods (often abstract methods) that must be implemented by any subclass."
   ]
  },
  {
   "cell_type": "code",
   "execution_count": 31,
   "metadata": {},
   "outputs": [
    {
     "name": "stdout",
     "output_type": "stream",
     "text": [
      "The car is going\n",
      "The bike is going\n"
     ]
    }
   ],
   "source": [
    "from abc import ABC, abstractmethod\n",
    "\n",
    "class Vehicle(ABC):\n",
    "\n",
    "    @abstractmethod\n",
    "    def go(self) -> None:\n",
    "        pass\n",
    "\n",
    "    # @abstractmethod\n",
    "    # def stop(self) -> None:\n",
    "    #    pass\n",
    "\n",
    "class Car(Vehicle):\n",
    "\n",
    "    def go(self) -> None:\n",
    "        print(\"The car is going\")\n",
    "\n",
    "class Bike(Vehicle):\n",
    "\n",
    "    def go(self) -> None:\n",
    "        print(\"The bike is going\")\n",
    "\n",
    "#vehicle : Vehicle = Vehicle()\n",
    "car : Car = Car()\n",
    "bike : Bike = Bike()\n",
    "\n",
    "#vehicle.go()\n",
    "car.go()\n",
    "bike.go()"
   ]
  },
  {
   "cell_type": "markdown",
   "metadata": {},
   "source": [
    "Dataclasses (New and a better way to write python classes)"
   ]
  },
  {
   "cell_type": "code",
   "execution_count": 38,
   "metadata": {},
   "outputs": [
    {
     "name": "stdout",
     "output_type": "stream",
     "text": [
      "English\n",
      "Language: English, Food: Hamburger, Body Temp: 98.6\n",
      "John is speaking... English\n",
      "John is eating...\n",
      "American(name='John', age=25, weight=65, liked_food='Pizza')\n",
      "John\n",
      "25\n",
      "65\n",
      "English\n"
     ]
    }
   ],
   "source": [
    "from dataclasses import dataclass\n",
    "from typing import ClassVar\n",
    "\n",
    "@dataclass\n",
    "class American:\n",
    "# class variables\n",
    "  national_language: ClassVar[str] = \"English\"\n",
    "  national_food: ClassVar[str] = \"Hamburger\"\n",
    "  normal_body_temperature: ClassVar[float] = 98.6\n",
    "# instance variables\n",
    "  name: str\n",
    "  age: int\n",
    "  weight: float\n",
    "  liked_food: str\n",
    "\n",
    "# instance methods\n",
    "  def speaks(self):\n",
    "    return f\"{self.name} is speaking... {American.national_language}\"\n",
    "\n",
    "  def eats(self):\n",
    "    return f\"{self.name} is eating...\"\n",
    "\n",
    "# static method\n",
    "  @staticmethod\n",
    "  def country_language():\n",
    "    return American.national_language\n",
    "  \n",
    "# class method\n",
    "  @classmethod\n",
    "  def cultural_info(cls):\n",
    "      return f\"Language: {cls.national_language}, Food: {cls.national_food}, Body Temp: {cls.normal_body_temperature}\"\n",
    "  \n",
    "# invoking the static method\n",
    "print(American.country_language())\n",
    "# output= English\n",
    "\n",
    "# invoking the class method\n",
    "print(American.cultural_info())\n",
    "# output= Language: English, Food: Hamburger, Body Temp: 98.6\n",
    "\n",
    "# Creating an instace of the class\n",
    "john = American(name=\"John\", age=25, weight=65, liked_food=\"Pizza\")\n",
    "\n",
    "# invoking the instace methods\n",
    "print(john.speaks()) # Output: John is speaking... English\n",
    "print(john.eats()) # Output: John is eating...\n",
    "\n",
    "print(john) # Output: American(name='John', age=25, weight=65, liked_food='Pizza')\n",
    "print(john.name) # Output: John\n",
    "print(john.age) # Output: 25\n",
    "print(john.weight) # Output: 65\n",
    "print(American.national_language) # Output: English\n",
    "\n",
    "# self referes to the instance of the class\n",
    "# cls refers to the class itself"
   ]
  },
  {
   "cell_type": "markdown",
   "metadata": {},
   "source": [
    "Callable Objects"
   ]
  },
  {
   "cell_type": "markdown",
   "metadata": {},
   "source": [
    "Without Callable"
   ]
  },
  {
   "cell_type": "code",
   "execution_count": 40,
   "metadata": {},
   "outputs": [
    {
     "name": "stdout",
     "output_type": "stream",
     "text": [
      "John is speaking...\n",
      "John is eating...\n"
     ]
    }
   ],
   "source": [
    "from dataclasses import dataclass\n",
    "\n",
    "@dataclass\n",
    "class Human:\n",
    "    name:str\n",
    "    age:int\n",
    "\n",
    "    def speaks(self):\n",
    "        return f\"{self.name} is speaking...\"\n",
    "    \n",
    "    def eats(self):\n",
    "        return f\"{self.name} is eating...\"\n",
    "    \n",
    "obj1 = Human(name=\"John\", age=25)\n",
    "print(obj1.speaks()) # Output: John is speaking...\n",
    "print(obj1.eats()) # Output: John is eating...\n",
    "\n",
    "#obj1() # Output: TypeError: 'Human' object is not callable"
   ]
  },
  {
   "cell_type": "markdown",
   "metadata": {},
   "source": [
    "With Callable"
   ]
  },
  {
   "cell_type": "code",
   "execution_count": null,
   "metadata": {},
   "outputs": [
    {
     "name": "stdout",
     "output_type": "stream",
     "text": [
      "John is speaking...\n",
      "John is eating...\n",
      "John is calling...\n"
     ]
    }
   ],
   "source": [
    "@dataclass\n",
    "class Human:\n",
    "    name:str\n",
    "    age:int\n",
    "\n",
    "    def speaks(self):\n",
    "        return f\"{self.name} is speaking...\"\n",
    "    \n",
    "    def eats(self):\n",
    "        return f\"{self.name} is eating...\"\n",
    "    \n",
    "    def __call__(self):\n",
    "        return f\"{self.name} is calling...\"\n",
    "    \n",
    "obj1 = Human(name=\"John\", age=25)\n",
    "print(obj1.speaks()) # Output: John is speaking...\n",
    "print(obj1.eats()) # Output: John is eating...\n",
    "\n",
    "print(obj1()) # Output: John is calling..."
   ]
  },
  {
   "cell_type": "markdown",
   "metadata": {},
   "source": [
    "Callable With Types"
   ]
  },
  {
   "cell_type": "code",
   "execution_count": 43,
   "metadata": {},
   "outputs": [
    {
     "name": "stdout",
     "output_type": "stream",
     "text": [
      "12\n"
     ]
    }
   ],
   "source": [
    "from typing import Callable\n",
    "\n",
    "@dataclass\n",
    "class Calculator:\n",
    "    operation: Callable[[int, int], str] #takes two integers and returns a string\n",
    "\n",
    "    def calculate(self, a: int, b: int) -> str:\n",
    "        return self.operation(a, b)\n",
    "\n",
    "def add_and_stringify(x: int, y: int) -> str:\n",
    "    return str(x + y)\n",
    "\n",
    "calc = Calculator(operation=add_and_stringify)\n",
    "print(calc.calculate(5, 7))  # Outputs: '12'"
   ]
  },
  {
   "cell_type": "markdown",
   "metadata": {},
   "source": [
    "More Refined Way"
   ]
  },
  {
   "cell_type": "code",
   "execution_count": 44,
   "metadata": {},
   "outputs": [
    {
     "name": "stdout",
     "output_type": "stream",
     "text": [
      "12\n"
     ]
    }
   ],
   "source": [
    "@dataclass\n",
    "class Calculator:\n",
    "    operation: Callable[[int, int], str] #takes two integers and returns a string\n",
    "\n",
    "    def __call__(self, a: int, b: int) -> str:\n",
    "        return self.operation(a, b)\n",
    "\n",
    "def add_and_stringify(x: int, y: int) -> str:\n",
    "    return str(x + y)\n",
    "\n",
    "calc = Calculator(operation=add_and_stringify)\n",
    "print(calc(5, 7))  # Outputs: '12'"
   ]
  },
  {
   "cell_type": "markdown",
   "metadata": {},
   "source": [
    "Generics (T = TypeVar('T'))"
   ]
  },
  {
   "cell_type": "markdown",
   "metadata": {},
   "source": [
    "Without Generics"
   ]
  },
  {
   "cell_type": "code",
   "execution_count": 47,
   "metadata": {},
   "outputs": [
    {
     "name": "stdout",
     "output_type": "stream",
     "text": [
      "1\n",
      "a\n"
     ]
    }
   ],
   "source": [
    "# Example without Generics\n",
    "def first_element(items):\n",
    "    return items[0]\n",
    "\n",
    "nums = [1, 2, 3]\n",
    "strings = ['a', 'b', 'c']\n",
    "\n",
    "num_result = first_element(nums)\n",
    "string_result = first_element(strings)\n",
    "\n",
    "print(num_result)    # 1\n",
    "print(string_result) # 'a'\n",
    "\n",
    "# Issue: No type checking. We can't restrict or inform about expected data types explicitly."
   ]
  },
  {
   "cell_type": "markdown",
   "metadata": {},
   "source": [
    "With Generics"
   ]
  },
  {
   "cell_type": "code",
   "execution_count": 48,
   "metadata": {},
   "outputs": [
    {
     "name": "stdout",
     "output_type": "stream",
     "text": [
      "1\n",
      "a\n"
     ]
    }
   ],
   "source": [
    "from typing import TypeVar\n",
    "# Type variable for generic typing\n",
    "T = TypeVar('T')\n",
    "\n",
    "def generic_first_element(items: list[T]) -> T:\n",
    "    return items[0]\n",
    "\n",
    "nums = [1, 2, 3]\n",
    "strings = ['a', 'b', 'c']\n",
    "\n",
    "num_result = generic_first_element(nums)        # type inferred as int\n",
    "string_result = generic_first_element(strings)  # type inferred as str\n",
    "\n",
    "print(num_result)    # 1\n",
    "print(string_result) # 'a'"
   ]
  },
  {
   "cell_type": "markdown",
   "metadata": {},
   "source": [
    "Generic Classes"
   ]
  },
  {
   "cell_type": "code",
   "execution_count": 49,
   "metadata": {},
   "outputs": [
    {
     "name": "stdout",
     "output_type": "stream",
     "text": [
      "Stack(items=[])\n",
      "30\n",
      "Stack(items=[10, 20])\n",
      "20\n",
      "Stack(items=[])\n",
      "Stack(items=['hello', 'world'])\n",
      "world\n"
     ]
    }
   ],
   "source": [
    "from typing import Generic, TypeVar, ClassVar\n",
    "from dataclasses import dataclass, field\n",
    "\n",
    "# Type variable for generic typing\n",
    "T = TypeVar('T')\n",
    "\n",
    "@dataclass\n",
    "class Stack(Generic[T]): # Generic class\n",
    "    items: list[T] = field(default_factory=list) # a better way to pass an empty list []\n",
    "    limit: ClassVar[int] = 30\n",
    "\n",
    "    def push(self, item: T) -> None:\n",
    "        self.items.append(item)\n",
    "\n",
    "    def pop(self) -> T:\n",
    "        return self.items.pop()\n",
    "\n",
    "stack_of_ints = Stack[int]()\n",
    "\n",
    "print(stack_of_ints) # Stack(items=[])\n",
    "print(stack_of_ints.limit) # 30\n",
    "stack_of_ints.push(10)\n",
    "stack_of_ints.push(20) \n",
    "print(stack_of_ints) # Stack(items=[10, 20])\n",
    "print(stack_of_ints.pop())  # 20\n",
    "\n",
    "stack_of_strings = Stack[str]()\n",
    "\n",
    "print(stack_of_strings) # Stack(items=[])\n",
    "stack_of_strings.push(\"hello\")\n",
    "stack_of_strings.push(\"world\")\n",
    "print(stack_of_strings) # Stack(items=['hello', 'world'])\n",
    "\n",
    "print(stack_of_strings.pop())  # 'world'"
   ]
  }
 ],
 "metadata": {
  "kernelspec": {
   "display_name": ".venv",
   "language": "python",
   "name": "python3"
  },
  "language_info": {
   "codemirror_mode": {
    "name": "ipython",
    "version": 3
   },
   "file_extension": ".py",
   "mimetype": "text/x-python",
   "name": "python",
   "nbconvert_exporter": "python",
   "pygments_lexer": "ipython3",
   "version": "3.12.3"
  }
 },
 "nbformat": 4,
 "nbformat_minor": 2
}
