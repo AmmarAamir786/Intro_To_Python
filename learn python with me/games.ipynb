{
 "cells": [
  {
   "cell_type": "markdown",
   "metadata": {},
   "source": [
    "Madlibs"
   ]
  },
  {
   "cell_type": "code",
   "execution_count": 5,
   "metadata": {},
   "outputs": [
    {
     "data": {
      "text/plain": [
       "'On a quest for the ultimate keema, I traveled to rawat filled with fluffy mountains and cute rivers. There, I encountered a wise jackie chan who spoke in riddles and offered me a keema filled with the most delicious ingredients imaginable!'"
      ]
     },
     "metadata": {},
     "output_type": "display_data"
    }
   ],
   "source": [
    "food1: str = input(\"Food= \")\n",
    "place1: str = input(\"Place= \")\n",
    "adjective1: str = input(\"Adjective= \")\n",
    "adjective2: str = input(\"Adjective= \")\n",
    "noun2: str = input(\"Noun= \")\n",
    "adjective3: str = input(\"Adjective= \")\n",
    "\n",
    "madlib: str = f\"On a quest for the ultimate {food1}, I traveled to {place1} filled with {adjective1} mountains and {adjective2} rivers. There, I encountered a wise {noun2} who spoke in riddles and offered me a {food1} filled with the most {adjective3} ingredients imaginable!\"\n",
    "display(madlib)"
   ]
  },
  {
   "cell_type": "markdown",
   "metadata": {},
   "source": [
    "Number guessing game"
   ]
  },
  {
   "cell_type": "code",
   "execution_count": 6,
   "metadata": {},
   "outputs": [
    {
     "name": "stdout",
     "output_type": "stream",
     "text": [
      "Congratulations! You guessed it right\n"
     ]
    }
   ],
   "source": [
    "import random\n",
    "\n",
    "num : int = random.randint(0, 11)\n",
    "user_number : int = int(input(\"Guess the number\"))\n",
    "\n",
    "while True:\n",
    "    if num == user_number:\n",
    "        print(\"Congratulations! You guessed it right\")\n",
    "        break\n",
    "    elif num < user_number:\n",
    "        user_number = int(input(\"Too high! Try again.\"))\n",
    "    elif num > user_number:\n",
    "        user_number = int(input(\"Too low! Try again.\"))"
   ]
  },
  {
   "cell_type": "markdown",
   "metadata": {},
   "source": [
    "Guess game using colors"
   ]
  },
  {
   "cell_type": "code",
   "execution_count": 7,
   "metadata": {},
   "outputs": [
    {
     "name": "stdout",
     "output_type": "stream",
     "text": [
      "You won. The color was green\n",
      "Untill next time\n"
     ]
    }
   ],
   "source": [
    "import random\n",
    "\n",
    "colors : list[str] = [\"red\", \"green\", \"purple\"]\n",
    "\n",
    "while True: \n",
    "    ai_picked = colors[random.randint(0, len(colors)-1)]\n",
    "    user_input : str = input(\"Pick a color: 1-Red, 2-Green, 3-Purple\")\n",
    "\n",
    "    while True:\n",
    "        if user_input.lower() == ai_picked:\n",
    "            break\n",
    "        else:\n",
    "            user_input = input(\"Nope guess again\")\n",
    "\n",
    "    print(f\"You won. The color was {ai_picked}\")\n",
    "\n",
    "    play_again : str = input(\"wanna play again? Y, N\")\n",
    "\n",
    "    if play_again.lower() == \"n\":\n",
    "        break\n",
    "\n",
    "print(\"Untill next time\")"
   ]
  },
  {
   "cell_type": "markdown",
   "metadata": {},
   "source": [
    "Rock Papers Scizzors"
   ]
  },
  {
   "cell_type": "code",
   "execution_count": 26,
   "metadata": {},
   "outputs": [
    {
     "name": "stdout",
     "output_type": "stream",
     "text": [
      "Ai picked rock You picked scizzors you lost\n"
     ]
    }
   ],
   "source": [
    "import random\n",
    "\n",
    "choices: list[str] = [\"rock\", \"paper\", \"scizzors\"]\n",
    "\n",
    "ai_choice = random.choice(choices)\n",
    "\n",
    "user_choice = input(\"Rock OR Paper OR Scizzors\").lower()\n",
    "\n",
    "if ai_choice == user_choice:\n",
    "    print(f\"Ai picked {ai_choice} You picked {user_choice} Its a draw\")\n",
    "\n",
    "if (ai_choice == \"rock\" and user_choice == \"paper\") or (ai_choice == \"paper\" and user_choice == \"scizzors\") or ai_choice == \"scizzors\" and user_choice == \"rock\":\n",
    "    print(f\"Ai picked {ai_choice} You picked {user_choice} You won!\")\n",
    "else:\n",
    "    print(f\"Ai picked {ai_choice} You picked {user_choice} you lost\")"
   ]
  },
  {
   "cell_type": "markdown",
   "metadata": {},
   "source": [
    "FizzBuzz Game"
   ]
  },
  {
   "cell_type": "code",
   "execution_count": 6,
   "metadata": {},
   "outputs": [
    {
     "name": "stdout",
     "output_type": "stream",
     "text": [
      "1\n",
      "2\n",
      "fizz\n",
      "4\n",
      "buzz\n",
      "fizz\n",
      "7\n",
      "8\n",
      "fizz\n",
      "buzz\n",
      "11\n",
      "fizz\n",
      "13\n",
      "14\n",
      "fizzbuzz\n",
      "16\n",
      "17\n",
      "fizz\n",
      "19\n",
      "buzz\n",
      "fizz\n",
      "22\n",
      "23\n",
      "fizz\n",
      "buzz\n",
      "26\n",
      "fizz\n",
      "28\n",
      "29\n",
      "fizzbuzz\n",
      "31\n",
      "32\n",
      "fizz\n",
      "34\n",
      "buzz\n",
      "fizz\n",
      "37\n",
      "38\n",
      "fizz\n",
      "buzz\n",
      "41\n",
      "fizz\n",
      "43\n",
      "44\n",
      "fizzbuzz\n",
      "46\n",
      "47\n",
      "fizz\n",
      "49\n",
      "buzz\n",
      "fizz\n",
      "52\n",
      "53\n",
      "fizz\n",
      "buzz\n",
      "56\n",
      "fizz\n",
      "58\n",
      "59\n",
      "fizzbuzz\n",
      "61\n",
      "62\n",
      "fizz\n",
      "64\n",
      "buzz\n",
      "fizz\n",
      "67\n",
      "68\n",
      "fizz\n",
      "buzz\n",
      "71\n",
      "fizz\n",
      "73\n",
      "74\n",
      "fizzbuzz\n",
      "76\n",
      "77\n",
      "fizz\n",
      "79\n",
      "buzz\n",
      "fizz\n",
      "82\n",
      "83\n",
      "fizz\n",
      "buzz\n",
      "86\n",
      "fizz\n",
      "88\n",
      "89\n",
      "fizzbuzz\n",
      "91\n",
      "92\n",
      "fizz\n",
      "94\n",
      "buzz\n",
      "fizz\n",
      "97\n",
      "98\n",
      "fizz\n"
     ]
    }
   ],
   "source": [
    "#if divisible by 3 print fizz\n",
    "#if divisible by 5 print buzz\n",
    "#if divisible by 3 and 5 print fizzbuzz\n",
    "\n",
    "for n in range(1,100):\n",
    "    if n % 3 == 0 and n % 5 == 0:\n",
    "        print(\"fizzbuzz\")\n",
    "    elif n % 3 == 0:\n",
    "        print(\"fizz\")\n",
    "    elif n % 5 == 0:\n",
    "        print(\"buzz\")\n",
    "    else:\n",
    "        print(n)"
   ]
  },
  {
   "cell_type": "markdown",
   "metadata": {},
   "source": [
    "Hangman"
   ]
  },
  {
   "cell_type": "code",
   "execution_count": 50,
   "metadata": {},
   "outputs": [
    {
     "name": "stdout",
     "output_type": "stream",
     "text": [
      "apple\n",
      "['_', '_', '_', '_', '_']\n"
     ]
    },
    {
     "name": "stdout",
     "output_type": "stream",
     "text": [
      "['a', '_', '_', '_', '_']\n",
      "['a', 'p', 'p', '_', '_']\n",
      "['a', 'p', 'p', 'l', '_']\n",
      "['a', 'p', 'p', 'l', 'e']\n",
      "Congratulations! You Have Won\n"
     ]
    }
   ],
   "source": [
    "import random\n",
    "\n",
    "words: list[str] = [\"apple\", \"mango\", \"banana\", \"watermelon\"]\n",
    "ai_picked: str = random.choice(words)\n",
    "print(ai_picked)\n",
    "\n",
    "length_ai_picked = len(ai_picked)\n",
    "\n",
    "display: list[str] = []\n",
    "\n",
    "for l in range(0, length_ai_picked):\n",
    "    display.append(\"_\")\n",
    "\n",
    "print(display)\n",
    "\n",
    "while \"_\" in display:\n",
    "    user_picked_letter: str = input(\"Pick a letter: \").lower()\n",
    "    for i in range(length_ai_picked):\n",
    "        if ai_picked[i] == user_picked_letter:\n",
    "            display[i] = user_picked_letter\n",
    "    print(display)\n",
    "\n",
    "print(\"Congratulations! You Have Won\")"
   ]
  },
  {
   "cell_type": "markdown",
   "metadata": {},
   "source": [
    "Higher or Lower"
   ]
  },
  {
   "cell_type": "code",
   "execution_count": 4,
   "metadata": {},
   "outputs": [
    {
     "name": "stdout",
     "output_type": "stream",
     "text": [
      "Welcome to Higher or Lower Game\n",
      "Select the Instagrammer you think have more following\n",
      "##########################################\n",
      "Your current score is: 0\n",
      "\n",
      "1:\n",
      "Kendall Jenner\n",
      "Reality TV personality and Model\n",
      "United States\n",
      "\n",
      "2:\n",
      "Kevin Hart\n",
      "Comedian and actor\n",
      "United States\n",
      "\n",
      "You lose\n",
      "Your score is 0\n"
     ]
    }
   ],
   "source": [
    "#Create a seperate py file and run the code there\n",
    "\n",
    "from game_data import data\n",
    "import random\n",
    "\n",
    "print(\"Welcome to Higher or Lower Game\")\n",
    "\n",
    "print(\"Select the Instagrammer you think have more following\")\n",
    "\n",
    "score: int = 0\n",
    "\n",
    "def choices(score):\n",
    "\n",
    "    print(\"##########################################\")\n",
    "    print(f\"Your current score is: {score}\")\n",
    "    print(\"\")\n",
    "\n",
    "    choice_1 = random.choice(data)\n",
    "    choice_1_name: str = choice_1[\"name\"]\n",
    "    choice_1_description: str = choice_1[\"description\"]\n",
    "    choice_1_country: str = choice_1[\"country\"]\n",
    "    choice_1_follower_count: int = choice_1[\"follower_count\"]\n",
    "\n",
    "    choice_2 = random.choice(data)\n",
    "\n",
    "    if choice_1 == choice_2:\n",
    "        choice_2 = random.choice(data)\n",
    "\n",
    "    choice_2_name: str = choice_2[\"name\"]\n",
    "    choice_2_description: str = choice_2[\"description\"]\n",
    "    choice_2_country: str = choice_2[\"country\"]\n",
    "    choice_2_follower_count: int = choice_2[\"follower_count\"]\n",
    "\n",
    "    print(\"1:\")\n",
    "    print(choice_1_name)\n",
    "    print(choice_1_description)\n",
    "    print(choice_1_country)\n",
    "\n",
    "    print(\"\")\n",
    "\n",
    "    print(\"2:\")\n",
    "    print(choice_2_name)\n",
    "    print(choice_2_description)\n",
    "    print(choice_2_country)\n",
    "\n",
    "    print(\"\")\n",
    "\n",
    "    user_choice = int(input(\"Select 1 or 2: \"))\n",
    "\n",
    "    if user_choice == 1 and choice_1_follower_count > choice_2_follower_count:\n",
    "        print(\"You are correct\")\n",
    "        score += 1\n",
    "        choices(score)\n",
    "    elif user_choice == 2 and choice_1_follower_count < choice_2_follower_count:\n",
    "        print(\"You are correct\")\n",
    "        score += 1\n",
    "        choices(score)\n",
    "    else:\n",
    "        print(\"You lose\")\n",
    "        print(f\"Your score is {score}\")\n",
    "\n",
    "choices(score)"
   ]
  }
 ],
 "metadata": {
  "kernelspec": {
   "display_name": "practice-P-L_3UUd-py3.12",
   "language": "python",
   "name": "python3"
  },
  "language_info": {
   "codemirror_mode": {
    "name": "ipython",
    "version": 3
   },
   "file_extension": ".py",
   "mimetype": "text/x-python",
   "name": "python",
   "nbconvert_exporter": "python",
   "pygments_lexer": "ipython3",
   "version": "3.12.2"
  }
 },
 "nbformat": 4,
 "nbformat_minor": 2
}
